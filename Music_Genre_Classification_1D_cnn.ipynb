{
  "cells": [
    {
      "cell_type": "markdown",
      "metadata": {
        "id": "view-in-github",
        "colab_type": "text"
      },
      "source": [
        "<a href=\"https://colab.research.google.com/github/Prasmaker/music-genre-classification/blob/main/Music_Genre_Classification_1D_cnn.ipynb\" target=\"_parent\"><img src=\"https://colab.research.google.com/assets/colab-badge.svg\" alt=\"Open In Colab\"/></a>"
      ]
    },
    {
      "cell_type": "code",
      "execution_count": null,
      "metadata": {
        "colab": {
          "base_uri": "https://localhost:8080/"
        },
        "id": "lAQ0etwr76Vl",
        "outputId": "663e407f-ab1f-4f70-e308-4aa17a748b3a"
      },
      "outputs": [
        {
          "output_type": "stream",
          "name": "stdout",
          "text": [
            "Colab only includes TensorFlow 2.x; %tensorflow_version has no effect.\n"
          ]
        }
      ],
      "source": [
        "%tensorflow_version 2.x"
      ]
    },
    {
      "cell_type": "code",
      "execution_count": 1,
      "metadata": {
        "colab": {
          "base_uri": "https://localhost:8080/"
        },
        "id": "dCakh4On8FIB",
        "outputId": "9337320a-7b8a-4d18-b607-0a119f90f722"
      },
      "outputs": [
        {
          "output_type": "stream",
          "name": "stdout",
          "text": [
            "Collecting memory_profiler\n",
            "  Downloading memory_profiler-0.61.0-py3-none-any.whl.metadata (20 kB)\n",
            "Requirement already satisfied: psutil in /usr/local/lib/python3.11/dist-packages (from memory_profiler) (5.9.5)\n",
            "Downloading memory_profiler-0.61.0-py3-none-any.whl (31 kB)\n",
            "Installing collected packages: memory_profiler\n",
            "Successfully installed memory_profiler-0.61.0\n"
          ]
        }
      ],
      "source": [
        "!pip install memory_profiler"
      ]
    },
    {
      "cell_type": "code",
      "execution_count": 2,
      "metadata": {
        "id": "_fkYk3kS7fxa"
      },
      "outputs": [],
      "source": [
        "%matplotlib inline\n",
        "from memory_profiler import memory_usage\n",
        "import os\n",
        "import pandas as pd\n",
        "from glob import glob\n",
        "import numpy as np"
      ]
    },
    {
      "cell_type": "code",
      "execution_count": 3,
      "metadata": {
        "id": "R0Z46sRt7yIO"
      },
      "outputs": [],
      "source": [
        " %%capture\n",
        " !apt-get install libav-tools -y"
      ]
    },
    {
      "cell_type": "code",
      "execution_count": 4,
      "metadata": {
        "id": "ZTbJ16zO8Omt",
        "colab": {
          "base_uri": "https://localhost:8080/"
        },
        "outputId": "a8eb93ab-ebd0-4137-a543-44b7668983ec"
      },
      "outputs": [
        {
          "output_type": "stream",
          "name": "stdout",
          "text": [
            "--2025-06-09 11:09:26--  https://www.dropbox.com/s/4jw31k5mlzcmgis/genres.tar.gz\n",
            "Resolving www.dropbox.com (www.dropbox.com)... 162.125.2.18, 2620:100:6030:18::a27d:5012\n",
            "Connecting to www.dropbox.com (www.dropbox.com)|162.125.2.18|:443... connected.\n",
            "HTTP request sent, awaiting response... 302 Found\n",
            "Location: https://www.dropbox.com/scl/fi/logv7hsjc1t3daaysuhyh/genres.tar.gz?rlkey=vcu3jvliyletkjwxz8bv8jm7c [following]\n",
            "--2025-06-09 11:09:27--  https://www.dropbox.com/scl/fi/logv7hsjc1t3daaysuhyh/genres.tar.gz?rlkey=vcu3jvliyletkjwxz8bv8jm7c\n",
            "Reusing existing connection to www.dropbox.com:443.\n",
            "HTTP request sent, awaiting response... 302 Found\n",
            "Location: https://uc2c5c8c0a33bc65996468809727.dl.dropboxusercontent.com/cd/0/inline/CrQzmpZwN1eve0ccNj0ew9Z5ckABTyeeyPgPhCufcvuvh0nP46NOYhHy8KkgSW66jj3sRhaVlwKY3jileKwmtPLvZGdczbjsO8jtRxi6wa-2lV4_NYwILd_2fB8UfDLModE/file# [following]\n",
            "--2025-06-09 11:09:27--  https://uc2c5c8c0a33bc65996468809727.dl.dropboxusercontent.com/cd/0/inline/CrQzmpZwN1eve0ccNj0ew9Z5ckABTyeeyPgPhCufcvuvh0nP46NOYhHy8KkgSW66jj3sRhaVlwKY3jileKwmtPLvZGdczbjsO8jtRxi6wa-2lV4_NYwILd_2fB8UfDLModE/file\n",
            "Resolving uc2c5c8c0a33bc65996468809727.dl.dropboxusercontent.com (uc2c5c8c0a33bc65996468809727.dl.dropboxusercontent.com)... 162.125.2.15, 2620:100:6018:15::a27d:30f\n",
            "Connecting to uc2c5c8c0a33bc65996468809727.dl.dropboxusercontent.com (uc2c5c8c0a33bc65996468809727.dl.dropboxusercontent.com)|162.125.2.15|:443... connected.\n",
            "HTTP request sent, awaiting response... 302 Found\n",
            "Location: /cd/0/inline2/CrSENTK4Vxf8cTldQ_g11B0rJshL2yPTqTddF_ju4cQhGdwUid6xdlPMSz9sU5tYs0pCIRnOvh-J_dc-6oq0tc1pK1oxyZlpLjjUec5asVIe4nbRr4uj8UzxF0btY41cp-613tczAKgPB-wDrkJT2FLy4O1vI0yID5YLdP1comR4tuuv9fr5q0Eo7FqpWA0m4tvpY1819ZqtB_fnl3w2Ai_hiRvStRZhn6ZQ_3LhyJIrF1eDQuXYCxf6QukiSC3Ev-MoaiGx1ZzzR6BtedwT3hdLrf0gAvr23xRGIAZgNFPOkDWcRA1S9T9GZiqVwZiFOyoQbnuiSGZaIKmFNLTqFI5fPwO_Lt0O5dRgZaVacdYg_Q/file [following]\n",
            "--2025-06-09 11:09:28--  https://uc2c5c8c0a33bc65996468809727.dl.dropboxusercontent.com/cd/0/inline2/CrSENTK4Vxf8cTldQ_g11B0rJshL2yPTqTddF_ju4cQhGdwUid6xdlPMSz9sU5tYs0pCIRnOvh-J_dc-6oq0tc1pK1oxyZlpLjjUec5asVIe4nbRr4uj8UzxF0btY41cp-613tczAKgPB-wDrkJT2FLy4O1vI0yID5YLdP1comR4tuuv9fr5q0Eo7FqpWA0m4tvpY1819ZqtB_fnl3w2Ai_hiRvStRZhn6ZQ_3LhyJIrF1eDQuXYCxf6QukiSC3Ev-MoaiGx1ZzzR6BtedwT3hdLrf0gAvr23xRGIAZgNFPOkDWcRA1S9T9GZiqVwZiFOyoQbnuiSGZaIKmFNLTqFI5fPwO_Lt0O5dRgZaVacdYg_Q/file\n",
            "Reusing existing connection to uc2c5c8c0a33bc65996468809727.dl.dropboxusercontent.com:443.\n",
            "HTTP request sent, awaiting response... 200 OK\n",
            "Length: 1225573614 (1.1G) [application/octet-stream]\n",
            "Saving to: ‘genres.tar.gz’\n",
            "\n",
            "genres.tar.gz       100%[===================>]   1.14G  83.0MB/s    in 16s     \n",
            "\n",
            "2025-06-09 11:09:45 (73.5 MB/s) - ‘genres.tar.gz’ saved [1225573614/1225573614]\n",
            "\n"
          ]
        }
      ],
      "source": [
        "!wget https://www.dropbox.com/s/4jw31k5mlzcmgis/genres.tar.gz"
      ]
    },
    {
      "cell_type": "markdown",
      "source": [
        "# New Section"
      ],
      "metadata": {
        "id": "OjJ3JpVqHpqE"
      }
    },
    {
      "cell_type": "markdown",
      "source": [
        "Splitting Train and Test data properly and Then evaluating"
      ],
      "metadata": {
        "id": "PhNxl9LGvx3t"
      }
    },
    {
      "cell_type": "code",
      "source": [
        "import os\n",
        "import tarfile\n",
        "\n",
        "# Extracting the genres.tar.gz file\n",
        "print(\"Extracting genres.tar.gz...\")with tarfile.open('/content/genres.tar.gz', 'r:gz') as tar:\n",
        "    tar.extractall('/content/')\n",
        "\n",
        "print(\"Extraction complete!\")\n",
        "\n",
        "# Checking\n",
        "print(\"\\nContents of /content/ after extraction:\")\n",
        "for item in os.listdir('/content'):\n",
        "    print(f\" {item}\")\n",
        "\n",
        "# Genres folder\n",
        "if os.path.exists('/content/genres'):\n",
        "    print(f\"\\n /content/genres now exists!\")\n",
        "    print(\"Genre folders:\")\n",
        "    for item in os.listdir('/content/genres'):\n",
        "        item_path = os.path.join('/content/genres', item)\n",
        "        if os.path.isdir(item_path):\n",
        "            file_count = len(os.listdir(item_path))\n",
        "            print(f\" {item}/ ({file_count} files)\")\n",
        "\n",
        "    # Check for audio files again\n",
        "    from glob import glob\n",
        "    audio_files = glob('/content/genres/**/*.au', recursive=True)\n",
        "    print(f\"\\n Found {len(audio_files)} .au files\")\n",
        "\n",
        "    if audio_files:\n",
        "        print(\"Sample files:\")\n",
        "        for file in audio_files[:3]:\n",
        "            print(f\"  {file}\")"
      ],
      "metadata": {
        "colab": {
          "base_uri": "https://localhost:8080/"
        },
        "id": "XhGdY03vdWpx",
        "outputId": "ef5787c2-f4de-4aa5-ae54-bd814fa8a155"
      },
      "execution_count": 17,
      "outputs": [
        {
          "output_type": "stream",
          "name": "stdout",
          "text": [
            "Extracting genres.tar.gz...\n",
            "Extraction complete!\n",
            "\n",
            "Contents of /content/ after extraction:\n",
            "📁/📄 .config\n",
            "📁/📄 train\n",
            "📁/📄 genres\n",
            "📁/📄 validation\n",
            "📁/📄 test\n",
            "📁/📄 genres.tar.gz\n",
            "📁/📄 sample_data\n",
            "\n",
            "✅ /content/genres now exists!\n",
            "Genre folders:\n",
            "📁 pop/ (100 files)\n",
            "📁 hiphop/ (100 files)\n",
            "📁 blues/ (100 files)\n",
            "📁 reggae/ (100 files)\n",
            "📁 classical/ (100 files)\n",
            "📁 metal/ (100 files)\n",
            "📁 country/ (100 files)\n",
            "📁 jazz/ (100 files)\n",
            "📁 rock/ (100 files)\n",
            "📁 disco/ (100 files)\n",
            "\n",
            "🎵 Found 1000 .au files\n",
            "Sample files:\n",
            "  /content/genres/pop/pop.00073.au\n",
            "  /content/genres/pop/pop.00058.au\n",
            "  /content/genres/pop/pop.00014.au\n"
          ]
        }
      ]
    },
    {
      "cell_type": "code",
      "source": [
        "import os\n",
        "import shutil\n",
        "from sklearn.model_selection import train_test_split\n",
        "from glob import glob\n",
        "import pandas as pd\n",
        "\n",
        "# Clean up existing directories (since we need to start fresh)\n",
        "for dir_name in ['/content/train', '/content/validation', '/content/test']:\n",
        "    if os.path.exists(dir_name):\n",
        "        shutil.rmtree(dir_name)"
      ],
      "metadata": {
        "id": "_9pGML9peAqG"
      },
      "execution_count": 18,
      "outputs": []
    },
    {
      "cell_type": "code",
      "source": [
        "#New directories\n",
        "os.makedirs('/content/train', exist_ok=True)\n",
        "os.makedirs('/content/validation', exist_ok=True)\n",
        "\n",
        "# Get all .au files\n",
        "audio_files = glob('/content/genres/**/*.au', recursive=True)\n",
        "print(f\"Found {len(audio_files)} .au files\")"
      ],
      "metadata": {
        "colab": {
          "base_uri": "https://localhost:8080/"
        },
        "id": "MTZhCsGTudIc",
        "outputId": "fc660de2-6653-4dbb-b2ad-2064d8ad12e1"
      },
      "execution_count": 19,
      "outputs": [
        {
          "output_type": "stream",
          "name": "stdout",
          "text": [
            "Found 1000 .au files\n"
          ]
        }
      ]
    },
    {
      "cell_type": "code",
      "source": [
        "#DataFrame for splitting\n",
        "file_data = []\n",
        "for audio_file in audio_files:\n",
        "    genre = os.path.basename(os.path.dirname(audio_file))\n",
        "    filename = os.path.basename(audio_file)\n",
        "    file_data.append({\n",
        "        'filepath': audio_file,\n",
        "        'genre': genre,\n",
        "        'filename': filename\n",
        "    })\n",
        "\n",
        "df = pd.DataFrame(file_data)\n",
        "print(f\"\\nGenres: {df['genre'].unique()}\")\n",
        "print(\"Original distribution:\")\n",
        "print(df['genre'].value_counts())"
      ],
      "metadata": {
        "colab": {
          "base_uri": "https://localhost:8080/"
        },
        "id": "1k5AyJzruc-x",
        "outputId": "9a7a3496-5b53-41cc-a449-b228a3e50062"
      },
      "execution_count": 20,
      "outputs": [
        {
          "output_type": "stream",
          "name": "stdout",
          "text": [
            "\n",
            "Genres: ['pop' 'hiphop' 'blues' 'reggae' 'classical' 'metal' 'country' 'jazz'\n",
            " 'rock' 'disco']\n",
            "Original distribution:\n",
            "genre\n",
            "pop          100\n",
            "hiphop       100\n",
            "blues        100\n",
            "reggae       100\n",
            "classical    100\n",
            "metal        100\n",
            "country      100\n",
            "jazz         100\n",
            "rock         100\n",
            "disco        100\n",
            "Name: count, dtype: int64\n"
          ]
        }
      ]
    },
    {
      "cell_type": "code",
      "source": [
        "df"
      ],
      "metadata": {
        "colab": {
          "base_uri": "https://localhost:8080/",
          "height": 423
        },
        "id": "KscAgINGbMx_",
        "outputId": "b3a3812d-d696-45f2-d46d-a0418023e00d"
      },
      "execution_count": 21,
      "outputs": [
        {
          "output_type": "execute_result",
          "data": {
            "text/plain": [
              "                                 filepath  genre        filename\n",
              "0        /content/genres/pop/pop.00073.au    pop    pop.00073.au\n",
              "1        /content/genres/pop/pop.00058.au    pop    pop.00058.au\n",
              "2        /content/genres/pop/pop.00014.au    pop    pop.00014.au\n",
              "3        /content/genres/pop/pop.00038.au    pop    pop.00038.au\n",
              "4        /content/genres/pop/pop.00061.au    pop    pop.00061.au\n",
              "..                                    ...    ...             ...\n",
              "995  /content/genres/disco/disco.00082.au  disco  disco.00082.au\n",
              "996  /content/genres/disco/disco.00075.au  disco  disco.00075.au\n",
              "997  /content/genres/disco/disco.00091.au  disco  disco.00091.au\n",
              "998  /content/genres/disco/disco.00068.au  disco  disco.00068.au\n",
              "999  /content/genres/disco/disco.00099.au  disco  disco.00099.au\n",
              "\n",
              "[1000 rows x 3 columns]"
            ],
            "text/html": [
              "\n",
              "  <div id=\"df-1e649d7f-c2e8-4824-928d-f9856fda2112\" class=\"colab-df-container\">\n",
              "    <div>\n",
              "<style scoped>\n",
              "    .dataframe tbody tr th:only-of-type {\n",
              "        vertical-align: middle;\n",
              "    }\n",
              "\n",
              "    .dataframe tbody tr th {\n",
              "        vertical-align: top;\n",
              "    }\n",
              "\n",
              "    .dataframe thead th {\n",
              "        text-align: right;\n",
              "    }\n",
              "</style>\n",
              "<table border=\"1\" class=\"dataframe\">\n",
              "  <thead>\n",
              "    <tr style=\"text-align: right;\">\n",
              "      <th></th>\n",
              "      <th>filepath</th>\n",
              "      <th>genre</th>\n",
              "      <th>filename</th>\n",
              "    </tr>\n",
              "  </thead>\n",
              "  <tbody>\n",
              "    <tr>\n",
              "      <th>0</th>\n",
              "      <td>/content/genres/pop/pop.00073.au</td>\n",
              "      <td>pop</td>\n",
              "      <td>pop.00073.au</td>\n",
              "    </tr>\n",
              "    <tr>\n",
              "      <th>1</th>\n",
              "      <td>/content/genres/pop/pop.00058.au</td>\n",
              "      <td>pop</td>\n",
              "      <td>pop.00058.au</td>\n",
              "    </tr>\n",
              "    <tr>\n",
              "      <th>2</th>\n",
              "      <td>/content/genres/pop/pop.00014.au</td>\n",
              "      <td>pop</td>\n",
              "      <td>pop.00014.au</td>\n",
              "    </tr>\n",
              "    <tr>\n",
              "      <th>3</th>\n",
              "      <td>/content/genres/pop/pop.00038.au</td>\n",
              "      <td>pop</td>\n",
              "      <td>pop.00038.au</td>\n",
              "    </tr>\n",
              "    <tr>\n",
              "      <th>4</th>\n",
              "      <td>/content/genres/pop/pop.00061.au</td>\n",
              "      <td>pop</td>\n",
              "      <td>pop.00061.au</td>\n",
              "    </tr>\n",
              "    <tr>\n",
              "      <th>...</th>\n",
              "      <td>...</td>\n",
              "      <td>...</td>\n",
              "      <td>...</td>\n",
              "    </tr>\n",
              "    <tr>\n",
              "      <th>995</th>\n",
              "      <td>/content/genres/disco/disco.00082.au</td>\n",
              "      <td>disco</td>\n",
              "      <td>disco.00082.au</td>\n",
              "    </tr>\n",
              "    <tr>\n",
              "      <th>996</th>\n",
              "      <td>/content/genres/disco/disco.00075.au</td>\n",
              "      <td>disco</td>\n",
              "      <td>disco.00075.au</td>\n",
              "    </tr>\n",
              "    <tr>\n",
              "      <th>997</th>\n",
              "      <td>/content/genres/disco/disco.00091.au</td>\n",
              "      <td>disco</td>\n",
              "      <td>disco.00091.au</td>\n",
              "    </tr>\n",
              "    <tr>\n",
              "      <th>998</th>\n",
              "      <td>/content/genres/disco/disco.00068.au</td>\n",
              "      <td>disco</td>\n",
              "      <td>disco.00068.au</td>\n",
              "    </tr>\n",
              "    <tr>\n",
              "      <th>999</th>\n",
              "      <td>/content/genres/disco/disco.00099.au</td>\n",
              "      <td>disco</td>\n",
              "      <td>disco.00099.au</td>\n",
              "    </tr>\n",
              "  </tbody>\n",
              "</table>\n",
              "<p>1000 rows × 3 columns</p>\n",
              "</div>\n",
              "    <div class=\"colab-df-buttons\">\n",
              "\n",
              "  <div class=\"colab-df-container\">\n",
              "    <button class=\"colab-df-convert\" onclick=\"convertToInteractive('df-1e649d7f-c2e8-4824-928d-f9856fda2112')\"\n",
              "            title=\"Convert this dataframe to an interactive table.\"\n",
              "            style=\"display:none;\">\n",
              "\n",
              "  <svg xmlns=\"http://www.w3.org/2000/svg\" height=\"24px\" viewBox=\"0 -960 960 960\">\n",
              "    <path d=\"M120-120v-720h720v720H120Zm60-500h600v-160H180v160Zm220 220h160v-160H400v160Zm0 220h160v-160H400v160ZM180-400h160v-160H180v160Zm440 0h160v-160H620v160ZM180-180h160v-160H180v160Zm440 0h160v-160H620v160Z\"/>\n",
              "  </svg>\n",
              "    </button>\n",
              "\n",
              "  <style>\n",
              "    .colab-df-container {\n",
              "      display:flex;\n",
              "      gap: 12px;\n",
              "    }\n",
              "\n",
              "    .colab-df-convert {\n",
              "      background-color: #E8F0FE;\n",
              "      border: none;\n",
              "      border-radius: 50%;\n",
              "      cursor: pointer;\n",
              "      display: none;\n",
              "      fill: #1967D2;\n",
              "      height: 32px;\n",
              "      padding: 0 0 0 0;\n",
              "      width: 32px;\n",
              "    }\n",
              "\n",
              "    .colab-df-convert:hover {\n",
              "      background-color: #E2EBFA;\n",
              "      box-shadow: 0px 1px 2px rgba(60, 64, 67, 0.3), 0px 1px 3px 1px rgba(60, 64, 67, 0.15);\n",
              "      fill: #174EA6;\n",
              "    }\n",
              "\n",
              "    .colab-df-buttons div {\n",
              "      margin-bottom: 4px;\n",
              "    }\n",
              "\n",
              "    [theme=dark] .colab-df-convert {\n",
              "      background-color: #3B4455;\n",
              "      fill: #D2E3FC;\n",
              "    }\n",
              "\n",
              "    [theme=dark] .colab-df-convert:hover {\n",
              "      background-color: #434B5C;\n",
              "      box-shadow: 0px 1px 3px 1px rgba(0, 0, 0, 0.15);\n",
              "      filter: drop-shadow(0px 1px 2px rgba(0, 0, 0, 0.3));\n",
              "      fill: #FFFFFF;\n",
              "    }\n",
              "  </style>\n",
              "\n",
              "    <script>\n",
              "      const buttonEl =\n",
              "        document.querySelector('#df-1e649d7f-c2e8-4824-928d-f9856fda2112 button.colab-df-convert');\n",
              "      buttonEl.style.display =\n",
              "        google.colab.kernel.accessAllowed ? 'block' : 'none';\n",
              "\n",
              "      async function convertToInteractive(key) {\n",
              "        const element = document.querySelector('#df-1e649d7f-c2e8-4824-928d-f9856fda2112');\n",
              "        const dataTable =\n",
              "          await google.colab.kernel.invokeFunction('convertToInteractive',\n",
              "                                                    [key], {});\n",
              "        if (!dataTable) return;\n",
              "\n",
              "        const docLinkHtml = 'Like what you see? Visit the ' +\n",
              "          '<a target=\"_blank\" href=https://colab.research.google.com/notebooks/data_table.ipynb>data table notebook</a>'\n",
              "          + ' to learn more about interactive tables.';\n",
              "        element.innerHTML = '';\n",
              "        dataTable['output_type'] = 'display_data';\n",
              "        await google.colab.output.renderOutput(dataTable, element);\n",
              "        const docLink = document.createElement('div');\n",
              "        docLink.innerHTML = docLinkHtml;\n",
              "        element.appendChild(docLink);\n",
              "      }\n",
              "    </script>\n",
              "  </div>\n",
              "\n",
              "\n",
              "    <div id=\"df-0d7f8896-0c3d-4f39-869a-998efaa7c11d\">\n",
              "      <button class=\"colab-df-quickchart\" onclick=\"quickchart('df-0d7f8896-0c3d-4f39-869a-998efaa7c11d')\"\n",
              "                title=\"Suggest charts\"\n",
              "                style=\"display:none;\">\n",
              "\n",
              "<svg xmlns=\"http://www.w3.org/2000/svg\" height=\"24px\"viewBox=\"0 0 24 24\"\n",
              "     width=\"24px\">\n",
              "    <g>\n",
              "        <path d=\"M19 3H5c-1.1 0-2 .9-2 2v14c0 1.1.9 2 2 2h14c1.1 0 2-.9 2-2V5c0-1.1-.9-2-2-2zM9 17H7v-7h2v7zm4 0h-2V7h2v10zm4 0h-2v-4h2v4z\"/>\n",
              "    </g>\n",
              "</svg>\n",
              "      </button>\n",
              "\n",
              "<style>\n",
              "  .colab-df-quickchart {\n",
              "      --bg-color: #E8F0FE;\n",
              "      --fill-color: #1967D2;\n",
              "      --hover-bg-color: #E2EBFA;\n",
              "      --hover-fill-color: #174EA6;\n",
              "      --disabled-fill-color: #AAA;\n",
              "      --disabled-bg-color: #DDD;\n",
              "  }\n",
              "\n",
              "  [theme=dark] .colab-df-quickchart {\n",
              "      --bg-color: #3B4455;\n",
              "      --fill-color: #D2E3FC;\n",
              "      --hover-bg-color: #434B5C;\n",
              "      --hover-fill-color: #FFFFFF;\n",
              "      --disabled-bg-color: #3B4455;\n",
              "      --disabled-fill-color: #666;\n",
              "  }\n",
              "\n",
              "  .colab-df-quickchart {\n",
              "    background-color: var(--bg-color);\n",
              "    border: none;\n",
              "    border-radius: 50%;\n",
              "    cursor: pointer;\n",
              "    display: none;\n",
              "    fill: var(--fill-color);\n",
              "    height: 32px;\n",
              "    padding: 0;\n",
              "    width: 32px;\n",
              "  }\n",
              "\n",
              "  .colab-df-quickchart:hover {\n",
              "    background-color: var(--hover-bg-color);\n",
              "    box-shadow: 0 1px 2px rgba(60, 64, 67, 0.3), 0 1px 3px 1px rgba(60, 64, 67, 0.15);\n",
              "    fill: var(--button-hover-fill-color);\n",
              "  }\n",
              "\n",
              "  .colab-df-quickchart-complete:disabled,\n",
              "  .colab-df-quickchart-complete:disabled:hover {\n",
              "    background-color: var(--disabled-bg-color);\n",
              "    fill: var(--disabled-fill-color);\n",
              "    box-shadow: none;\n",
              "  }\n",
              "\n",
              "  .colab-df-spinner {\n",
              "    border: 2px solid var(--fill-color);\n",
              "    border-color: transparent;\n",
              "    border-bottom-color: var(--fill-color);\n",
              "    animation:\n",
              "      spin 1s steps(1) infinite;\n",
              "  }\n",
              "\n",
              "  @keyframes spin {\n",
              "    0% {\n",
              "      border-color: transparent;\n",
              "      border-bottom-color: var(--fill-color);\n",
              "      border-left-color: var(--fill-color);\n",
              "    }\n",
              "    20% {\n",
              "      border-color: transparent;\n",
              "      border-left-color: var(--fill-color);\n",
              "      border-top-color: var(--fill-color);\n",
              "    }\n",
              "    30% {\n",
              "      border-color: transparent;\n",
              "      border-left-color: var(--fill-color);\n",
              "      border-top-color: var(--fill-color);\n",
              "      border-right-color: var(--fill-color);\n",
              "    }\n",
              "    40% {\n",
              "      border-color: transparent;\n",
              "      border-right-color: var(--fill-color);\n",
              "      border-top-color: var(--fill-color);\n",
              "    }\n",
              "    60% {\n",
              "      border-color: transparent;\n",
              "      border-right-color: var(--fill-color);\n",
              "    }\n",
              "    80% {\n",
              "      border-color: transparent;\n",
              "      border-right-color: var(--fill-color);\n",
              "      border-bottom-color: var(--fill-color);\n",
              "    }\n",
              "    90% {\n",
              "      border-color: transparent;\n",
              "      border-bottom-color: var(--fill-color);\n",
              "    }\n",
              "  }\n",
              "</style>\n",
              "\n",
              "      <script>\n",
              "        async function quickchart(key) {\n",
              "          const quickchartButtonEl =\n",
              "            document.querySelector('#' + key + ' button');\n",
              "          quickchartButtonEl.disabled = true;  // To prevent multiple clicks.\n",
              "          quickchartButtonEl.classList.add('colab-df-spinner');\n",
              "          try {\n",
              "            const charts = await google.colab.kernel.invokeFunction(\n",
              "                'suggestCharts', [key], {});\n",
              "          } catch (error) {\n",
              "            console.error('Error during call to suggestCharts:', error);\n",
              "          }\n",
              "          quickchartButtonEl.classList.remove('colab-df-spinner');\n",
              "          quickchartButtonEl.classList.add('colab-df-quickchart-complete');\n",
              "        }\n",
              "        (() => {\n",
              "          let quickchartButtonEl =\n",
              "            document.querySelector('#df-0d7f8896-0c3d-4f39-869a-998efaa7c11d button');\n",
              "          quickchartButtonEl.style.display =\n",
              "            google.colab.kernel.accessAllowed ? 'block' : 'none';\n",
              "        })();\n",
              "      </script>\n",
              "    </div>\n",
              "\n",
              "  <div id=\"id_f0546f4c-961f-4e8e-8d63-6d9c0494b862\">\n",
              "    <style>\n",
              "      .colab-df-generate {\n",
              "        background-color: #E8F0FE;\n",
              "        border: none;\n",
              "        border-radius: 50%;\n",
              "        cursor: pointer;\n",
              "        display: none;\n",
              "        fill: #1967D2;\n",
              "        height: 32px;\n",
              "        padding: 0 0 0 0;\n",
              "        width: 32px;\n",
              "      }\n",
              "\n",
              "      .colab-df-generate:hover {\n",
              "        background-color: #E2EBFA;\n",
              "        box-shadow: 0px 1px 2px rgba(60, 64, 67, 0.3), 0px 1px 3px 1px rgba(60, 64, 67, 0.15);\n",
              "        fill: #174EA6;\n",
              "      }\n",
              "\n",
              "      [theme=dark] .colab-df-generate {\n",
              "        background-color: #3B4455;\n",
              "        fill: #D2E3FC;\n",
              "      }\n",
              "\n",
              "      [theme=dark] .colab-df-generate:hover {\n",
              "        background-color: #434B5C;\n",
              "        box-shadow: 0px 1px 3px 1px rgba(0, 0, 0, 0.15);\n",
              "        filter: drop-shadow(0px 1px 2px rgba(0, 0, 0, 0.3));\n",
              "        fill: #FFFFFF;\n",
              "      }\n",
              "    </style>\n",
              "    <button class=\"colab-df-generate\" onclick=\"generateWithVariable('df')\"\n",
              "            title=\"Generate code using this dataframe.\"\n",
              "            style=\"display:none;\">\n",
              "\n",
              "  <svg xmlns=\"http://www.w3.org/2000/svg\" height=\"24px\"viewBox=\"0 0 24 24\"\n",
              "       width=\"24px\">\n",
              "    <path d=\"M7,19H8.4L18.45,9,17,7.55,7,17.6ZM5,21V16.75L18.45,3.32a2,2,0,0,1,2.83,0l1.4,1.43a1.91,1.91,0,0,1,.58,1.4,1.91,1.91,0,0,1-.58,1.4L9.25,21ZM18.45,9,17,7.55Zm-12,3A5.31,5.31,0,0,0,4.9,8.1,5.31,5.31,0,0,0,1,6.5,5.31,5.31,0,0,0,4.9,4.9,5.31,5.31,0,0,0,6.5,1,5.31,5.31,0,0,0,8.1,4.9,5.31,5.31,0,0,0,12,6.5,5.46,5.46,0,0,0,6.5,12Z\"/>\n",
              "  </svg>\n",
              "    </button>\n",
              "    <script>\n",
              "      (() => {\n",
              "      const buttonEl =\n",
              "        document.querySelector('#id_f0546f4c-961f-4e8e-8d63-6d9c0494b862 button.colab-df-generate');\n",
              "      buttonEl.style.display =\n",
              "        google.colab.kernel.accessAllowed ? 'block' : 'none';\n",
              "\n",
              "      buttonEl.onclick = () => {\n",
              "        google.colab.notebook.generateWithVariable('df');\n",
              "      }\n",
              "      })();\n",
              "    </script>\n",
              "  </div>\n",
              "\n",
              "    </div>\n",
              "  </div>\n"
            ],
            "application/vnd.google.colaboratory.intrinsic+json": {
              "type": "dataframe",
              "variable_name": "df",
              "summary": "{\n  \"name\": \"df\",\n  \"rows\": 1000,\n  \"fields\": [\n    {\n      \"column\": \"filepath\",\n      \"properties\": {\n        \"dtype\": \"string\",\n        \"num_unique_values\": 1000,\n        \"samples\": [\n          \"/content/genres/metal/metal.00034.au\",\n          \"/content/genres/jazz/jazz.00049.au\",\n          \"/content/genres/jazz/jazz.00004.au\"\n        ],\n        \"semantic_type\": \"\",\n        \"description\": \"\"\n      }\n    },\n    {\n      \"column\": \"genre\",\n      \"properties\": {\n        \"dtype\": \"category\",\n        \"num_unique_values\": 10,\n        \"samples\": [\n          \"rock\",\n          \"hiphop\",\n          \"metal\"\n        ],\n        \"semantic_type\": \"\",\n        \"description\": \"\"\n      }\n    },\n    {\n      \"column\": \"filename\",\n      \"properties\": {\n        \"dtype\": \"string\",\n        \"num_unique_values\": 1000,\n        \"samples\": [\n          \"metal.00034.au\",\n          \"jazz.00049.au\",\n          \"jazz.00004.au\"\n        ],\n        \"semantic_type\": \"\",\n        \"description\": \"\"\n      }\n    }\n  ]\n}"
            }
          },
          "metadata": {},
          "execution_count": 21
        }
      ]
    },
    {
      "cell_type": "code",
      "source": [],
      "metadata": {
        "id": "Yo-hbYi4dTtY"
      },
      "execution_count": null,
      "outputs": []
    },
    {
      "cell_type": "code",
      "source": [
        "train_files, val_files = train_test_split(\n",
        "    df,\n",
        "    test_size=0.2,  # 80% train, 20% validation\n",
        "    stratify=df['genre'],  # Ensure equal genre distribution\n",
        "    random_state=42\n",
        ")\n",
        "\n",
        "print(f\"\\nAfter split:\")\n",
        "print(f\"Training files: {len(train_files)}\")\n",
        "print(f\"Validation files: {len(val_files)}\")\n",
        "print(\"\\nTraining genre distribution:\")\n",
        "print(train_files['genre'].value_counts())\n",
        "print(\"\\nValidation genre distribution:\")\n",
        "print(val_files['genre'].value_counts())"
      ],
      "metadata": {
        "colab": {
          "base_uri": "https://localhost:8080/"
        },
        "id": "DMsp4aq_cHP4",
        "outputId": "428fe706-3ecc-4e39-cc94-083bbb9ab0d4"
      },
      "execution_count": 22,
      "outputs": [
        {
          "output_type": "stream",
          "name": "stdout",
          "text": [
            "\n",
            "After split:\n",
            "Training files: 800\n",
            "Validation files: 200\n",
            "\n",
            "Training genre distribution:\n",
            "genre\n",
            "jazz         80\n",
            "country      80\n",
            "rock         80\n",
            "hiphop       80\n",
            "pop          80\n",
            "reggae       80\n",
            "metal        80\n",
            "blues        80\n",
            "classical    80\n",
            "disco        80\n",
            "Name: count, dtype: int64\n",
            "\n",
            "Validation genre distribution:\n",
            "genre\n",
            "classical    20\n",
            "blues        20\n",
            "metal        20\n",
            "jazz         20\n",
            "country      20\n",
            "rock         20\n",
            "hiphop       20\n",
            "reggae       20\n",
            "disco        20\n",
            "pop          20\n",
            "Name: count, dtype: int64\n"
          ]
        }
      ]
    },
    {
      "cell_type": "code",
      "source": [
        "#Creating spectrograms\n",
        "import librosa\n",
        "import matplotlib.pyplot as plt\n",
        "import numpy as np\n",
        "\n",
        "def create_spectrogram(filename, name, save_dir):\n",
        "    plt.interactive(False)\n",
        "    clip, sample_rate = librosa.load(filename, sr=None)\n",
        "    fig = plt.figure(figsize=[0.72,0.72])\n",
        "    ax = fig.add_subplot(111)\n",
        "    ax.axes.get_xaxis().set_visible(False)\n",
        "    ax.axes.get_yaxis().set_visible(False)\n",
        "    ax.set_frame_on(False)\n",
        "    S = librosa.feature.melspectrogram(y=clip, sr=sample_rate)\n",
        "    librosa.display.specshow(librosa.power_to_db(S, ref=np.max))\n",
        "    save_path = os.path.join(save_dir, name + '.jpg')\n",
        "    plt.savefig(save_path, dpi=400, bbox_inches='tight', pad_inches=0)\n",
        "    plt.close()\n",
        "    fig.clf()\n",
        "    plt.close(fig)\n",
        "    plt.close('all')\n",
        "    del filename, name, clip, sample_rate, fig, ax, S\n",
        "\n",
        "print(\"Creating spectrograms for training set...\")\n",
        "for i, row in train_files.iterrows():\n",
        "    audio_file = row['filepath']\n",
        "    genre = row['genre']\n",
        "    filename = row['filename'].replace('.au', '')\n",
        "    spectrogram_name = f\"{genre}_{filename}_{i}\"\n",
        "\n",
        "    try:\n",
        "        create_spectrogram(audio_file, spectrogram_name, '/content/train')\n",
        "        if i % 100 == 0:\n",
        "            print(f\"Processed {i} training files...\")\n",
        "    except Exception as e:\n",
        "        print(f\"Error processing {audio_file}: {e}\")\n",
        "\n",
        "print(\"Creating spectrograms for validation set...\")\n",
        "for i, row in val_files.iterrows():\n",
        "    audio_file = row['filepath']\n",
        "    genre = row['genre']\n",
        "    filename = row['filename'].replace('.au', '')\n",
        "    spectrogram_name = f\"{genre}_{filename}_{i}\"\n",
        "\n",
        "    try:\n",
        "        create_spectrogram(audio_file, spectrogram_name, '/content/validation')\n",
        "        if i % 50 == 0:\n",
        "            print(f\"Processed validation file at index {i}...\")\n",
        "    except Exception as e:\n",
        "        print(f\"Error processing {audio_file}: {e}\")\n",
        "\n",
        "print(\"Done creating spectrograms!\")"
      ],
      "metadata": {
        "colab": {
          "base_uri": "https://localhost:8080/"
        },
        "id": "pF5gJKEldB1S",
        "outputId": "9880ff81-71ff-4ee8-c1c5-ca8de0578a92"
      },
      "execution_count": 23,
      "outputs": [
        {
          "output_type": "stream",
          "name": "stdout",
          "text": [
            "Creating spectrograms for training set...\n",
            "Processed 200 training files...\n",
            "Processed 700 training files...\n",
            "Processed 900 training files...\n",
            "Processed 500 training files...\n",
            "Processed 400 training files...\n",
            "Processed 800 training files...\n",
            "Processed 100 training files...\n",
            "Processed 300 training files...\n",
            "Creating spectrograms for validation set...\n",
            "Processed validation file at index 600...\n",
            "Processed validation file at index 350...\n",
            "Processed validation file at index 950...\n",
            "Processed validation file at index 0...\n",
            "Done creating spectrograms!\n"
          ]
        }
      ]
    },
    {
      "cell_type": "code",
      "source": [
        "train_spectrograms = glob('/content/train/*.jpg')\n",
        "val_spectrograms = glob('/content/validation/*.jpg')\n",
        "print(f\"\\nCreated {len(train_spectrograms)} training spectrograms\")\n",
        "print(f\"Created {len(val_spectrograms)} validation spectrograms\")"
      ],
      "metadata": {
        "colab": {
          "base_uri": "https://localhost:8080/"
        },
        "id": "Q4mv1-xLdBqx",
        "outputId": "811fd0af-1f06-4948-815f-278560294210"
      },
      "execution_count": 24,
      "outputs": [
        {
          "output_type": "stream",
          "name": "stdout",
          "text": [
            "\n",
            "Created 800 training spectrograms\n",
            "Created 200 validation spectrograms\n"
          ]
        }
      ]
    },
    {
      "cell_type": "code",
      "source": [
        "import pandas as pd\n",
        "from glob import glob\n",
        "import os\n",
        "\n",
        "#Labels for training set\n",
        "train_spectrograms = glob('/content/train/*.jpg')\n",
        "train_labels_data = []\n",
        "for file_path in train_spectrograms:\n",
        "    filename = os.path.basename(file_path)\n",
        "    genre = filename.split('_')[0]\n",
        "    train_labels_data.append({\n",
        "        'filename': filename,\n",
        "        'genre': genre,\n",
        "        'filepath': file_path\n",
        "    })\n",
        "\n",
        "train_labels = pd.DataFrame(train_labels_data)\n",
        "print(f\"Training labels created: {len(train_labels)}\")\n",
        "print(f\"Training genres: {train_labels['genre'].unique()}\")\n",
        "print(\"Training genre distribution:\")\n",
        "print(train_labels['genre'].value_counts())\n",
        "\n"
      ],
      "metadata": {
        "colab": {
          "base_uri": "https://localhost:8080/"
        },
        "id": "cwUX_4NUdBgO",
        "outputId": "8d13eb77-ed45-43ba-d365-ef94f72138cd"
      },
      "execution_count": 25,
      "outputs": [
        {
          "output_type": "stream",
          "name": "stdout",
          "text": [
            "Training labels created: 800\n",
            "Training genres: ['metal' 'hiphop' 'pop' 'jazz' 'country' 'rock' 'disco' 'classical'\n",
            " 'reggae' 'blues']\n",
            "Training genre distribution:\n",
            "genre\n",
            "metal        80\n",
            "hiphop       80\n",
            "pop          80\n",
            "jazz         80\n",
            "country      80\n",
            "rock         80\n",
            "disco        80\n",
            "classical    80\n",
            "reggae       80\n",
            "blues        80\n",
            "Name: count, dtype: int64\n"
          ]
        }
      ]
    },
    {
      "cell_type": "code",
      "source": [
        "# Labels for validation set\n",
        "val_spectrograms = glob('/content/validation/*.jpg')\n",
        "val_labels_data = []\n",
        "for file_path in val_spectrograms:\n",
        "    filename = os.path.basename(file_path)\n",
        "    genre = filename.split('_')[0]\n",
        "    val_labels_data.append({\n",
        "        'filename': filename,\n",
        "        'genre': genre,\n",
        "        'filepath': file_path\n",
        "    })\n",
        "\n",
        "val_labels = pd.DataFrame(val_labels_data)\n",
        "print(f\"\\nValidation labels created: {len(val_labels)}\")\n",
        "print(f\"Validation genres: {val_labels['genre'].unique()}\")\n",
        "print(\"Validation genre distribution:\")\n",
        "print(val_labels['genre'].value_counts())"
      ],
      "metadata": {
        "colab": {
          "base_uri": "https://localhost:8080/"
        },
        "id": "D8d1oU8ZdBTV",
        "outputId": "71da0bb3-aea7-4f1a-9ff3-d5e637330c89"
      },
      "execution_count": 26,
      "outputs": [
        {
          "output_type": "stream",
          "name": "stdout",
          "text": [
            "\n",
            "Validation labels created: 200\n",
            "Validation genres: ['pop' 'classical' 'jazz' 'reggae' 'rock' 'metal' 'blues' 'hiphop'\n",
            " 'country' 'disco']\n",
            "Validation genre distribution:\n",
            "genre\n",
            "pop          20\n",
            "classical    20\n",
            "jazz         20\n",
            "reggae       20\n",
            "rock         20\n",
            "metal        20\n",
            "blues        20\n",
            "hiphop       20\n",
            "country      20\n",
            "disco        20\n",
            "Name: count, dtype: int64\n"
          ]
        }
      ]
    },
    {
      "cell_type": "code",
      "source": [
        "classes = list(train_labels['genre'].value_counts().index)\n",
        "print(f\"\\nClasses: {classes}\")"
      ],
      "metadata": {
        "colab": {
          "base_uri": "https://localhost:8080/"
        },
        "id": "jH6-0BpdeYlD",
        "outputId": "c4de04a2-af8e-454e-a20e-3e10f7a71ab6"
      },
      "execution_count": 27,
      "outputs": [
        {
          "output_type": "stream",
          "name": "stdout",
          "text": [
            "\n",
            "Classes: ['metal', 'hiphop', 'pop', 'jazz', 'country', 'rock', 'disco', 'classical', 'reggae', 'blues']\n"
          ]
        }
      ]
    },
    {
      "cell_type": "code",
      "source": [
        "import shutil\n",
        "\n",
        "# Genre folders for training\n",
        "for genre in classes:\n",
        "    os.makedirs(f'/content/train/{genre}', exist_ok=True)"
      ],
      "metadata": {
        "id": "7wVQimFwg8FO"
      },
      "execution_count": 28,
      "outputs": []
    },
    {
      "cell_type": "code",
      "source": [
        "# Genre folders for validation\n",
        "for genre in classes:\n",
        "    os.makedirs(f'/content/validation/{genre}', exist_ok=True)"
      ],
      "metadata": {
        "id": "2mZUnHfGg8q2"
      },
      "execution_count": 29,
      "outputs": []
    },
    {
      "cell_type": "code",
      "source": [
        "print(\"Created genre folders\")"
      ],
      "metadata": {
        "colab": {
          "base_uri": "https://localhost:8080/"
        },
        "id": "a5yoRTIXg877",
        "outputId": "75568826-1d42-4a34-c2c7-601385fef09e"
      },
      "execution_count": 30,
      "outputs": [
        {
          "output_type": "stream",
          "name": "stdout",
          "text": [
            "Created genre folders\n"
          ]
        }
      ]
    },
    {
      "cell_type": "code",
      "source": [
        "# Moving the spectrograms to appropriate folders\n",
        "print(\"Organizing training spectrograms...\")\n",
        "for _, row in train_labels.iterrows():\n",
        "    old_path = row['filepath']\n",
        "    genre = row['genre']\n",
        "    filename = row['filename']\n",
        "    new_path = f'/content/train/{genre}/{filename}'\n",
        "\n",
        "    try:\n",
        "        shutil.move(old_path, new_path)\n",
        "    except Exception as e:\n",
        "        print(f\"Error moving {filename}: {e}\")"
      ],
      "metadata": {
        "colab": {
          "base_uri": "https://localhost:8080/"
        },
        "id": "wsS7V3Jqg9Pt",
        "outputId": "25832432-eec7-4995-e4c6-fa3accde167d"
      },
      "execution_count": 31,
      "outputs": [
        {
          "output_type": "stream",
          "name": "stdout",
          "text": [
            "Organizing training spectrograms...\n"
          ]
        }
      ]
    },
    {
      "cell_type": "code",
      "source": [
        "\n",
        "\n",
        "for _, row in val_labels.iterrows():\n",
        "    old_path = row['filepath']\n",
        "    genre = row['genre']\n",
        "    filename = row['filename']\n",
        "    new_path = f'/content/validation/{genre}/{filename}'\n",
        "\n",
        "    try:\n",
        "        shutil.move(old_path, new_path)\n",
        "    except Exception as e:\n",
        "        print(f\"Error moving {filename}: {e}\")\n",
        "\n",
        "print(\"Organization complete!\")"
      ],
      "metadata": {
        "colab": {
          "base_uri": "https://localhost:8080/"
        },
        "id": "GzlYCf74hpC7",
        "outputId": "bce54328-810b-49f9-993b-29af091095f8"
      },
      "execution_count": 32,
      "outputs": [
        {
          "output_type": "stream",
          "name": "stdout",
          "text": [
            "Organizing validation spectrograms...\n",
            "Organization complete!\n"
          ]
        }
      ]
    },
    {
      "cell_type": "code",
      "source": [
        "# Verify\n",
        "print(\"\\nTraining folder structure:\")\n",
        "for genre in classes:\n",
        "    count = len(os.listdir(f'/content/train/{genre}'))\n",
        "    print(f\"  {genre}: {count} files\")\n",
        "\n",
        "print(\"\\nValidation folder structure:\")\n",
        "for genre in classes:\n",
        "    count = len(os.listdir(f'/content/validation/{genre}'))\n",
        "    print(f\"  {genre}: {count} files\")"
      ],
      "metadata": {
        "colab": {
          "base_uri": "https://localhost:8080/"
        },
        "id": "SSTG3v5uhpck",
        "outputId": "8bfe4941-3548-46e4-8580-db7726af87aa"
      },
      "execution_count": 33,
      "outputs": [
        {
          "output_type": "stream",
          "name": "stdout",
          "text": [
            "\n",
            "Training folder structure:\n",
            "  metal: 80 files\n",
            "  hiphop: 80 files\n",
            "  pop: 80 files\n",
            "  jazz: 80 files\n",
            "  country: 80 files\n",
            "  rock: 80 files\n",
            "  disco: 80 files\n",
            "  classical: 80 files\n",
            "  reggae: 80 files\n",
            "  blues: 80 files\n",
            "\n",
            "Validation folder structure:\n",
            "  metal: 20 files\n",
            "  hiphop: 20 files\n",
            "  pop: 20 files\n",
            "  jazz: 20 files\n",
            "  country: 20 files\n",
            "  rock: 20 files\n",
            "  disco: 20 files\n",
            "  classical: 20 files\n",
            "  reggae: 20 files\n",
            "  blues: 20 files\n"
          ]
        }
      ]
    },
    {
      "cell_type": "code",
      "source": [
        "from tensorflow.keras.preprocessing.image import ImageDataGenerator\n",
        "\n",
        "# Image parameters\n",
        "WIDTH = 64\n",
        "HEIGHT = 64\n",
        "BATCH_SIZE = 32\n",
        "TRAIN_DIR = '/content/train'\n",
        "VALIDATION_DIR = '/content/validation'\n",
        "\n",
        "# Data generators\n",
        "train_datagen = ImageDataGenerator(\n",
        "    rescale=1./255.,\n",
        "    rotation_range=10,\n",
        "    width_shift_range=0.1,\n",
        "    height_shift_range=0.1,\n",
        "    horizontal_flip=True,\n",
        "    fill_mode='nearest'\n",
        ")\n",
        "\n",
        "validation_datagen = ImageDataGenerator(rescale=1./255.)\n",
        "\n",
        "# Create generators\n",
        "train_generator = train_datagen.flow_from_directory(\n",
        "    TRAIN_DIR,\n",
        "    target_size=(HEIGHT, WIDTH),\n",
        "    batch_size=BATCH_SIZE,\n",
        "    class_mode='categorical',\n",
        "    shuffle=True\n",
        ")\n",
        "\n",
        "validation_generator = validation_datagen.flow_from_directory(\n",
        "    VALIDATION_DIR,\n",
        "    target_size=(HEIGHT, WIDTH),\n",
        "    batch_size=BATCH_SIZE,\n",
        "    class_mode='categorical',\n",
        "    shuffle=False\n",
        ")\n",
        "\n",
        "# Check the setup\n",
        "#print(f\"Training samples: {train_generator.samples}\")\n",
        "#print(f\"Validation samples: {validation_generator.samples}\")\n",
        "#print(f\"Number of classes: {train_generator.num_classes}\")\n",
        "#print(f\"Class indices: {train_generator.class_indices}\")"
      ],
      "metadata": {
        "colab": {
          "base_uri": "https://localhost:8080/"
        },
        "id": "R7Hf1D9KhprT",
        "outputId": "42fd7ddb-3db2-4198-e92b-5085856ac200"
      },
      "execution_count": 34,
      "outputs": [
        {
          "output_type": "stream",
          "name": "stdout",
          "text": [
            "Found 800 images belonging to 10 classes.\n",
            "Found 200 images belonging to 10 classes.\n",
            "Training samples: 800\n",
            "Validation samples: 200\n",
            "Number of classes: 10\n",
            "Class indices: {'blues': 0, 'classical': 1, 'country': 2, 'disco': 3, 'hiphop': 4, 'jazz': 5, 'metal': 6, 'pop': 7, 'reggae': 8, 'rock': 9}\n"
          ]
        }
      ]
    },
    {
      "cell_type": "markdown",
      "source": [
        "Creating The 2D CNN Model"
      ],
      "metadata": {
        "id": "90bCw60rOU9x"
      }
    },
    {
      "cell_type": "code",
      "source": [],
      "metadata": {
        "id": "8RTM4na3OUTk"
      },
      "execution_count": null,
      "outputs": []
    },
    {
      "cell_type": "code",
      "source": [
        "from tensorflow.keras.layers import Dense, Activation, Flatten, Dropout, BatchNormalization, Conv2D, MaxPooling2D\n",
        "from tensorflow.keras.models import Sequential, Model\n",
        "from tensorflow.keras import regularizers, optimizers\n",
        "\n",
        "model = Sequential()\n",
        "model.add(Conv2D(32, (3, 3), padding='same',\n",
        "                 input_shape=(64,64,3)))\n",
        "model.add(Activation('relu'))\n",
        "model.add(Conv2D(64, (3, 3)))\n",
        "model.add(Activation('relu'))\n",
        "model.add(MaxPooling2D(pool_size=(2, 2)))\n",
        "model.add(Dropout(0.25))\n",
        "model.add(Conv2D(64, (3, 3), padding='same'))\n",
        "model.add(Activation('relu'))\n",
        "model.add(Conv2D(64, (3, 3)))\n",
        "model.add(Activation('relu'))\n",
        "model.add(MaxPooling2D(pool_size=(2, 2)))\n",
        "model.add(Dropout(0.5))\n",
        "model.add(Conv2D(128, (3, 3), padding='same'))\n",
        "model.add(Activation('relu'))\n",
        "model.add(Conv2D(128, (3, 3)))\n",
        "model.add(Activation('relu'))\n",
        "model.add(MaxPooling2D(pool_size=(2, 2)))\n",
        "model.add(Dropout(0.5))\n",
        "model.add(Flatten())\n",
        "model.add(Dense(512))\n",
        "model.add(Activation('relu'))\n",
        "model.add(Dropout(0.5))\n",
        "model.add(Dense(10, activation='softmax'))\n",
        "\n",
        "\n",
        "model.compile(optimizers.RMSprop(learning_rate=0.0005, decay=1e-6),\n",
        "              loss=\"categorical_crossentropy\",\n",
        "              metrics=[\"accuracy\"])\n",
        "model.summary()"
      ],
      "metadata": {
        "colab": {
          "base_uri": "https://localhost:8080/",
          "height": 954
        },
        "id": "0VLAXiuKhqF8",
        "outputId": "2a3f1c1a-32e4-42fe-9dce-eace378580c5"
      },
      "execution_count": 35,
      "outputs": [
        {
          "output_type": "stream",
          "name": "stderr",
          "text": [
            "/usr/local/lib/python3.11/dist-packages/keras/src/layers/convolutional/base_conv.py:107: UserWarning: Do not pass an `input_shape`/`input_dim` argument to a layer. When using Sequential models, prefer using an `Input(shape)` object as the first layer in the model instead.\n",
            "  super().__init__(activity_regularizer=activity_regularizer, **kwargs)\n",
            "/usr/local/lib/python3.11/dist-packages/keras/src/optimizers/base_optimizer.py:86: UserWarning: Argument `decay` is no longer supported and will be ignored.\n",
            "  warnings.warn(\n"
          ]
        },
        {
          "output_type": "display_data",
          "data": {
            "text/plain": [
              "\u001b[1mModel: \"sequential\"\u001b[0m\n"
            ],
            "text/html": [
              "<pre style=\"white-space:pre;overflow-x:auto;line-height:normal;font-family:Menlo,'DejaVu Sans Mono',consolas,'Courier New',monospace\"><span style=\"font-weight: bold\">Model: \"sequential\"</span>\n",
              "</pre>\n"
            ]
          },
          "metadata": {}
        },
        {
          "output_type": "display_data",
          "data": {
            "text/plain": [
              "┏━━━━━━━━━━━━━━━━━━━━━━━━━━━━━━━━━┳━━━━━━━━━━━━━━━━━━━━━━━━┳━━━━━━━━━━━━━━━┓\n",
              "┃\u001b[1m \u001b[0m\u001b[1mLayer (type)                   \u001b[0m\u001b[1m \u001b[0m┃\u001b[1m \u001b[0m\u001b[1mOutput Shape          \u001b[0m\u001b[1m \u001b[0m┃\u001b[1m \u001b[0m\u001b[1m      Param #\u001b[0m\u001b[1m \u001b[0m┃\n",
              "┡━━━━━━━━━━━━━━━━━━━━━━━━━━━━━━━━━╇━━━━━━━━━━━━━━━━━━━━━━━━╇━━━━━━━━━━━━━━━┩\n",
              "│ conv2d (\u001b[38;5;33mConv2D\u001b[0m)                 │ (\u001b[38;5;45mNone\u001b[0m, \u001b[38;5;34m64\u001b[0m, \u001b[38;5;34m64\u001b[0m, \u001b[38;5;34m32\u001b[0m)     │           \u001b[38;5;34m896\u001b[0m │\n",
              "├─────────────────────────────────┼────────────────────────┼───────────────┤\n",
              "│ activation (\u001b[38;5;33mActivation\u001b[0m)         │ (\u001b[38;5;45mNone\u001b[0m, \u001b[38;5;34m64\u001b[0m, \u001b[38;5;34m64\u001b[0m, \u001b[38;5;34m32\u001b[0m)     │             \u001b[38;5;34m0\u001b[0m │\n",
              "├─────────────────────────────────┼────────────────────────┼───────────────┤\n",
              "│ conv2d_1 (\u001b[38;5;33mConv2D\u001b[0m)               │ (\u001b[38;5;45mNone\u001b[0m, \u001b[38;5;34m62\u001b[0m, \u001b[38;5;34m62\u001b[0m, \u001b[38;5;34m64\u001b[0m)     │        \u001b[38;5;34m18,496\u001b[0m │\n",
              "├─────────────────────────────────┼────────────────────────┼───────────────┤\n",
              "│ activation_1 (\u001b[38;5;33mActivation\u001b[0m)       │ (\u001b[38;5;45mNone\u001b[0m, \u001b[38;5;34m62\u001b[0m, \u001b[38;5;34m62\u001b[0m, \u001b[38;5;34m64\u001b[0m)     │             \u001b[38;5;34m0\u001b[0m │\n",
              "├─────────────────────────────────┼────────────────────────┼───────────────┤\n",
              "│ max_pooling2d (\u001b[38;5;33mMaxPooling2D\u001b[0m)    │ (\u001b[38;5;45mNone\u001b[0m, \u001b[38;5;34m31\u001b[0m, \u001b[38;5;34m31\u001b[0m, \u001b[38;5;34m64\u001b[0m)     │             \u001b[38;5;34m0\u001b[0m │\n",
              "├─────────────────────────────────┼────────────────────────┼───────────────┤\n",
              "│ dropout (\u001b[38;5;33mDropout\u001b[0m)               │ (\u001b[38;5;45mNone\u001b[0m, \u001b[38;5;34m31\u001b[0m, \u001b[38;5;34m31\u001b[0m, \u001b[38;5;34m64\u001b[0m)     │             \u001b[38;5;34m0\u001b[0m │\n",
              "├─────────────────────────────────┼────────────────────────┼───────────────┤\n",
              "│ conv2d_2 (\u001b[38;5;33mConv2D\u001b[0m)               │ (\u001b[38;5;45mNone\u001b[0m, \u001b[38;5;34m31\u001b[0m, \u001b[38;5;34m31\u001b[0m, \u001b[38;5;34m64\u001b[0m)     │        \u001b[38;5;34m36,928\u001b[0m │\n",
              "├─────────────────────────────────┼────────────────────────┼───────────────┤\n",
              "│ activation_2 (\u001b[38;5;33mActivation\u001b[0m)       │ (\u001b[38;5;45mNone\u001b[0m, \u001b[38;5;34m31\u001b[0m, \u001b[38;5;34m31\u001b[0m, \u001b[38;5;34m64\u001b[0m)     │             \u001b[38;5;34m0\u001b[0m │\n",
              "├─────────────────────────────────┼────────────────────────┼───────────────┤\n",
              "│ conv2d_3 (\u001b[38;5;33mConv2D\u001b[0m)               │ (\u001b[38;5;45mNone\u001b[0m, \u001b[38;5;34m29\u001b[0m, \u001b[38;5;34m29\u001b[0m, \u001b[38;5;34m64\u001b[0m)     │        \u001b[38;5;34m36,928\u001b[0m │\n",
              "├─────────────────────────────────┼────────────────────────┼───────────────┤\n",
              "│ activation_3 (\u001b[38;5;33mActivation\u001b[0m)       │ (\u001b[38;5;45mNone\u001b[0m, \u001b[38;5;34m29\u001b[0m, \u001b[38;5;34m29\u001b[0m, \u001b[38;5;34m64\u001b[0m)     │             \u001b[38;5;34m0\u001b[0m │\n",
              "├─────────────────────────────────┼────────────────────────┼───────────────┤\n",
              "│ max_pooling2d_1 (\u001b[38;5;33mMaxPooling2D\u001b[0m)  │ (\u001b[38;5;45mNone\u001b[0m, \u001b[38;5;34m14\u001b[0m, \u001b[38;5;34m14\u001b[0m, \u001b[38;5;34m64\u001b[0m)     │             \u001b[38;5;34m0\u001b[0m │\n",
              "├─────────────────────────────────┼────────────────────────┼───────────────┤\n",
              "│ dropout_1 (\u001b[38;5;33mDropout\u001b[0m)             │ (\u001b[38;5;45mNone\u001b[0m, \u001b[38;5;34m14\u001b[0m, \u001b[38;5;34m14\u001b[0m, \u001b[38;5;34m64\u001b[0m)     │             \u001b[38;5;34m0\u001b[0m │\n",
              "├─────────────────────────────────┼────────────────────────┼───────────────┤\n",
              "│ conv2d_4 (\u001b[38;5;33mConv2D\u001b[0m)               │ (\u001b[38;5;45mNone\u001b[0m, \u001b[38;5;34m14\u001b[0m, \u001b[38;5;34m14\u001b[0m, \u001b[38;5;34m128\u001b[0m)    │        \u001b[38;5;34m73,856\u001b[0m │\n",
              "├─────────────────────────────────┼────────────────────────┼───────────────┤\n",
              "│ activation_4 (\u001b[38;5;33mActivation\u001b[0m)       │ (\u001b[38;5;45mNone\u001b[0m, \u001b[38;5;34m14\u001b[0m, \u001b[38;5;34m14\u001b[0m, \u001b[38;5;34m128\u001b[0m)    │             \u001b[38;5;34m0\u001b[0m │\n",
              "├─────────────────────────────────┼────────────────────────┼───────────────┤\n",
              "│ conv2d_5 (\u001b[38;5;33mConv2D\u001b[0m)               │ (\u001b[38;5;45mNone\u001b[0m, \u001b[38;5;34m12\u001b[0m, \u001b[38;5;34m12\u001b[0m, \u001b[38;5;34m128\u001b[0m)    │       \u001b[38;5;34m147,584\u001b[0m │\n",
              "├─────────────────────────────────┼────────────────────────┼───────────────┤\n",
              "│ activation_5 (\u001b[38;5;33mActivation\u001b[0m)       │ (\u001b[38;5;45mNone\u001b[0m, \u001b[38;5;34m12\u001b[0m, \u001b[38;5;34m12\u001b[0m, \u001b[38;5;34m128\u001b[0m)    │             \u001b[38;5;34m0\u001b[0m │\n",
              "├─────────────────────────────────┼────────────────────────┼───────────────┤\n",
              "│ max_pooling2d_2 (\u001b[38;5;33mMaxPooling2D\u001b[0m)  │ (\u001b[38;5;45mNone\u001b[0m, \u001b[38;5;34m6\u001b[0m, \u001b[38;5;34m6\u001b[0m, \u001b[38;5;34m128\u001b[0m)      │             \u001b[38;5;34m0\u001b[0m │\n",
              "├─────────────────────────────────┼────────────────────────┼───────────────┤\n",
              "│ dropout_2 (\u001b[38;5;33mDropout\u001b[0m)             │ (\u001b[38;5;45mNone\u001b[0m, \u001b[38;5;34m6\u001b[0m, \u001b[38;5;34m6\u001b[0m, \u001b[38;5;34m128\u001b[0m)      │             \u001b[38;5;34m0\u001b[0m │\n",
              "├─────────────────────────────────┼────────────────────────┼───────────────┤\n",
              "│ flatten (\u001b[38;5;33mFlatten\u001b[0m)               │ (\u001b[38;5;45mNone\u001b[0m, \u001b[38;5;34m4608\u001b[0m)           │             \u001b[38;5;34m0\u001b[0m │\n",
              "├─────────────────────────────────┼────────────────────────┼───────────────┤\n",
              "│ dense (\u001b[38;5;33mDense\u001b[0m)                   │ (\u001b[38;5;45mNone\u001b[0m, \u001b[38;5;34m512\u001b[0m)            │     \u001b[38;5;34m2,359,808\u001b[0m │\n",
              "├─────────────────────────────────┼────────────────────────┼───────────────┤\n",
              "│ activation_6 (\u001b[38;5;33mActivation\u001b[0m)       │ (\u001b[38;5;45mNone\u001b[0m, \u001b[38;5;34m512\u001b[0m)            │             \u001b[38;5;34m0\u001b[0m │\n",
              "├─────────────────────────────────┼────────────────────────┼───────────────┤\n",
              "│ dropout_3 (\u001b[38;5;33mDropout\u001b[0m)             │ (\u001b[38;5;45mNone\u001b[0m, \u001b[38;5;34m512\u001b[0m)            │             \u001b[38;5;34m0\u001b[0m │\n",
              "├─────────────────────────────────┼────────────────────────┼───────────────┤\n",
              "│ dense_1 (\u001b[38;5;33mDense\u001b[0m)                 │ (\u001b[38;5;45mNone\u001b[0m, \u001b[38;5;34m10\u001b[0m)             │         \u001b[38;5;34m5,130\u001b[0m │\n",
              "└─────────────────────────────────┴────────────────────────┴───────────────┘\n"
            ],
            "text/html": [
              "<pre style=\"white-space:pre;overflow-x:auto;line-height:normal;font-family:Menlo,'DejaVu Sans Mono',consolas,'Courier New',monospace\">┏━━━━━━━━━━━━━━━━━━━━━━━━━━━━━━━━━┳━━━━━━━━━━━━━━━━━━━━━━━━┳━━━━━━━━━━━━━━━┓\n",
              "┃<span style=\"font-weight: bold\"> Layer (type)                    </span>┃<span style=\"font-weight: bold\"> Output Shape           </span>┃<span style=\"font-weight: bold\">       Param # </span>┃\n",
              "┡━━━━━━━━━━━━━━━━━━━━━━━━━━━━━━━━━╇━━━━━━━━━━━━━━━━━━━━━━━━╇━━━━━━━━━━━━━━━┩\n",
              "│ conv2d (<span style=\"color: #0087ff; text-decoration-color: #0087ff\">Conv2D</span>)                 │ (<span style=\"color: #00d7ff; text-decoration-color: #00d7ff\">None</span>, <span style=\"color: #00af00; text-decoration-color: #00af00\">64</span>, <span style=\"color: #00af00; text-decoration-color: #00af00\">64</span>, <span style=\"color: #00af00; text-decoration-color: #00af00\">32</span>)     │           <span style=\"color: #00af00; text-decoration-color: #00af00\">896</span> │\n",
              "├─────────────────────────────────┼────────────────────────┼───────────────┤\n",
              "│ activation (<span style=\"color: #0087ff; text-decoration-color: #0087ff\">Activation</span>)         │ (<span style=\"color: #00d7ff; text-decoration-color: #00d7ff\">None</span>, <span style=\"color: #00af00; text-decoration-color: #00af00\">64</span>, <span style=\"color: #00af00; text-decoration-color: #00af00\">64</span>, <span style=\"color: #00af00; text-decoration-color: #00af00\">32</span>)     │             <span style=\"color: #00af00; text-decoration-color: #00af00\">0</span> │\n",
              "├─────────────────────────────────┼────────────────────────┼───────────────┤\n",
              "│ conv2d_1 (<span style=\"color: #0087ff; text-decoration-color: #0087ff\">Conv2D</span>)               │ (<span style=\"color: #00d7ff; text-decoration-color: #00d7ff\">None</span>, <span style=\"color: #00af00; text-decoration-color: #00af00\">62</span>, <span style=\"color: #00af00; text-decoration-color: #00af00\">62</span>, <span style=\"color: #00af00; text-decoration-color: #00af00\">64</span>)     │        <span style=\"color: #00af00; text-decoration-color: #00af00\">18,496</span> │\n",
              "├─────────────────────────────────┼────────────────────────┼───────────────┤\n",
              "│ activation_1 (<span style=\"color: #0087ff; text-decoration-color: #0087ff\">Activation</span>)       │ (<span style=\"color: #00d7ff; text-decoration-color: #00d7ff\">None</span>, <span style=\"color: #00af00; text-decoration-color: #00af00\">62</span>, <span style=\"color: #00af00; text-decoration-color: #00af00\">62</span>, <span style=\"color: #00af00; text-decoration-color: #00af00\">64</span>)     │             <span style=\"color: #00af00; text-decoration-color: #00af00\">0</span> │\n",
              "├─────────────────────────────────┼────────────────────────┼───────────────┤\n",
              "│ max_pooling2d (<span style=\"color: #0087ff; text-decoration-color: #0087ff\">MaxPooling2D</span>)    │ (<span style=\"color: #00d7ff; text-decoration-color: #00d7ff\">None</span>, <span style=\"color: #00af00; text-decoration-color: #00af00\">31</span>, <span style=\"color: #00af00; text-decoration-color: #00af00\">31</span>, <span style=\"color: #00af00; text-decoration-color: #00af00\">64</span>)     │             <span style=\"color: #00af00; text-decoration-color: #00af00\">0</span> │\n",
              "├─────────────────────────────────┼────────────────────────┼───────────────┤\n",
              "│ dropout (<span style=\"color: #0087ff; text-decoration-color: #0087ff\">Dropout</span>)               │ (<span style=\"color: #00d7ff; text-decoration-color: #00d7ff\">None</span>, <span style=\"color: #00af00; text-decoration-color: #00af00\">31</span>, <span style=\"color: #00af00; text-decoration-color: #00af00\">31</span>, <span style=\"color: #00af00; text-decoration-color: #00af00\">64</span>)     │             <span style=\"color: #00af00; text-decoration-color: #00af00\">0</span> │\n",
              "├─────────────────────────────────┼────────────────────────┼───────────────┤\n",
              "│ conv2d_2 (<span style=\"color: #0087ff; text-decoration-color: #0087ff\">Conv2D</span>)               │ (<span style=\"color: #00d7ff; text-decoration-color: #00d7ff\">None</span>, <span style=\"color: #00af00; text-decoration-color: #00af00\">31</span>, <span style=\"color: #00af00; text-decoration-color: #00af00\">31</span>, <span style=\"color: #00af00; text-decoration-color: #00af00\">64</span>)     │        <span style=\"color: #00af00; text-decoration-color: #00af00\">36,928</span> │\n",
              "├─────────────────────────────────┼────────────────────────┼───────────────┤\n",
              "│ activation_2 (<span style=\"color: #0087ff; text-decoration-color: #0087ff\">Activation</span>)       │ (<span style=\"color: #00d7ff; text-decoration-color: #00d7ff\">None</span>, <span style=\"color: #00af00; text-decoration-color: #00af00\">31</span>, <span style=\"color: #00af00; text-decoration-color: #00af00\">31</span>, <span style=\"color: #00af00; text-decoration-color: #00af00\">64</span>)     │             <span style=\"color: #00af00; text-decoration-color: #00af00\">0</span> │\n",
              "├─────────────────────────────────┼────────────────────────┼───────────────┤\n",
              "│ conv2d_3 (<span style=\"color: #0087ff; text-decoration-color: #0087ff\">Conv2D</span>)               │ (<span style=\"color: #00d7ff; text-decoration-color: #00d7ff\">None</span>, <span style=\"color: #00af00; text-decoration-color: #00af00\">29</span>, <span style=\"color: #00af00; text-decoration-color: #00af00\">29</span>, <span style=\"color: #00af00; text-decoration-color: #00af00\">64</span>)     │        <span style=\"color: #00af00; text-decoration-color: #00af00\">36,928</span> │\n",
              "├─────────────────────────────────┼────────────────────────┼───────────────┤\n",
              "│ activation_3 (<span style=\"color: #0087ff; text-decoration-color: #0087ff\">Activation</span>)       │ (<span style=\"color: #00d7ff; text-decoration-color: #00d7ff\">None</span>, <span style=\"color: #00af00; text-decoration-color: #00af00\">29</span>, <span style=\"color: #00af00; text-decoration-color: #00af00\">29</span>, <span style=\"color: #00af00; text-decoration-color: #00af00\">64</span>)     │             <span style=\"color: #00af00; text-decoration-color: #00af00\">0</span> │\n",
              "├─────────────────────────────────┼────────────────────────┼───────────────┤\n",
              "│ max_pooling2d_1 (<span style=\"color: #0087ff; text-decoration-color: #0087ff\">MaxPooling2D</span>)  │ (<span style=\"color: #00d7ff; text-decoration-color: #00d7ff\">None</span>, <span style=\"color: #00af00; text-decoration-color: #00af00\">14</span>, <span style=\"color: #00af00; text-decoration-color: #00af00\">14</span>, <span style=\"color: #00af00; text-decoration-color: #00af00\">64</span>)     │             <span style=\"color: #00af00; text-decoration-color: #00af00\">0</span> │\n",
              "├─────────────────────────────────┼────────────────────────┼───────────────┤\n",
              "│ dropout_1 (<span style=\"color: #0087ff; text-decoration-color: #0087ff\">Dropout</span>)             │ (<span style=\"color: #00d7ff; text-decoration-color: #00d7ff\">None</span>, <span style=\"color: #00af00; text-decoration-color: #00af00\">14</span>, <span style=\"color: #00af00; text-decoration-color: #00af00\">14</span>, <span style=\"color: #00af00; text-decoration-color: #00af00\">64</span>)     │             <span style=\"color: #00af00; text-decoration-color: #00af00\">0</span> │\n",
              "├─────────────────────────────────┼────────────────────────┼───────────────┤\n",
              "│ conv2d_4 (<span style=\"color: #0087ff; text-decoration-color: #0087ff\">Conv2D</span>)               │ (<span style=\"color: #00d7ff; text-decoration-color: #00d7ff\">None</span>, <span style=\"color: #00af00; text-decoration-color: #00af00\">14</span>, <span style=\"color: #00af00; text-decoration-color: #00af00\">14</span>, <span style=\"color: #00af00; text-decoration-color: #00af00\">128</span>)    │        <span style=\"color: #00af00; text-decoration-color: #00af00\">73,856</span> │\n",
              "├─────────────────────────────────┼────────────────────────┼───────────────┤\n",
              "│ activation_4 (<span style=\"color: #0087ff; text-decoration-color: #0087ff\">Activation</span>)       │ (<span style=\"color: #00d7ff; text-decoration-color: #00d7ff\">None</span>, <span style=\"color: #00af00; text-decoration-color: #00af00\">14</span>, <span style=\"color: #00af00; text-decoration-color: #00af00\">14</span>, <span style=\"color: #00af00; text-decoration-color: #00af00\">128</span>)    │             <span style=\"color: #00af00; text-decoration-color: #00af00\">0</span> │\n",
              "├─────────────────────────────────┼────────────────────────┼───────────────┤\n",
              "│ conv2d_5 (<span style=\"color: #0087ff; text-decoration-color: #0087ff\">Conv2D</span>)               │ (<span style=\"color: #00d7ff; text-decoration-color: #00d7ff\">None</span>, <span style=\"color: #00af00; text-decoration-color: #00af00\">12</span>, <span style=\"color: #00af00; text-decoration-color: #00af00\">12</span>, <span style=\"color: #00af00; text-decoration-color: #00af00\">128</span>)    │       <span style=\"color: #00af00; text-decoration-color: #00af00\">147,584</span> │\n",
              "├─────────────────────────────────┼────────────────────────┼───────────────┤\n",
              "│ activation_5 (<span style=\"color: #0087ff; text-decoration-color: #0087ff\">Activation</span>)       │ (<span style=\"color: #00d7ff; text-decoration-color: #00d7ff\">None</span>, <span style=\"color: #00af00; text-decoration-color: #00af00\">12</span>, <span style=\"color: #00af00; text-decoration-color: #00af00\">12</span>, <span style=\"color: #00af00; text-decoration-color: #00af00\">128</span>)    │             <span style=\"color: #00af00; text-decoration-color: #00af00\">0</span> │\n",
              "├─────────────────────────────────┼────────────────────────┼───────────────┤\n",
              "│ max_pooling2d_2 (<span style=\"color: #0087ff; text-decoration-color: #0087ff\">MaxPooling2D</span>)  │ (<span style=\"color: #00d7ff; text-decoration-color: #00d7ff\">None</span>, <span style=\"color: #00af00; text-decoration-color: #00af00\">6</span>, <span style=\"color: #00af00; text-decoration-color: #00af00\">6</span>, <span style=\"color: #00af00; text-decoration-color: #00af00\">128</span>)      │             <span style=\"color: #00af00; text-decoration-color: #00af00\">0</span> │\n",
              "├─────────────────────────────────┼────────────────────────┼───────────────┤\n",
              "│ dropout_2 (<span style=\"color: #0087ff; text-decoration-color: #0087ff\">Dropout</span>)             │ (<span style=\"color: #00d7ff; text-decoration-color: #00d7ff\">None</span>, <span style=\"color: #00af00; text-decoration-color: #00af00\">6</span>, <span style=\"color: #00af00; text-decoration-color: #00af00\">6</span>, <span style=\"color: #00af00; text-decoration-color: #00af00\">128</span>)      │             <span style=\"color: #00af00; text-decoration-color: #00af00\">0</span> │\n",
              "├─────────────────────────────────┼────────────────────────┼───────────────┤\n",
              "│ flatten (<span style=\"color: #0087ff; text-decoration-color: #0087ff\">Flatten</span>)               │ (<span style=\"color: #00d7ff; text-decoration-color: #00d7ff\">None</span>, <span style=\"color: #00af00; text-decoration-color: #00af00\">4608</span>)           │             <span style=\"color: #00af00; text-decoration-color: #00af00\">0</span> │\n",
              "├─────────────────────────────────┼────────────────────────┼───────────────┤\n",
              "│ dense (<span style=\"color: #0087ff; text-decoration-color: #0087ff\">Dense</span>)                   │ (<span style=\"color: #00d7ff; text-decoration-color: #00d7ff\">None</span>, <span style=\"color: #00af00; text-decoration-color: #00af00\">512</span>)            │     <span style=\"color: #00af00; text-decoration-color: #00af00\">2,359,808</span> │\n",
              "├─────────────────────────────────┼────────────────────────┼───────────────┤\n",
              "│ activation_6 (<span style=\"color: #0087ff; text-decoration-color: #0087ff\">Activation</span>)       │ (<span style=\"color: #00d7ff; text-decoration-color: #00d7ff\">None</span>, <span style=\"color: #00af00; text-decoration-color: #00af00\">512</span>)            │             <span style=\"color: #00af00; text-decoration-color: #00af00\">0</span> │\n",
              "├─────────────────────────────────┼────────────────────────┼───────────────┤\n",
              "│ dropout_3 (<span style=\"color: #0087ff; text-decoration-color: #0087ff\">Dropout</span>)             │ (<span style=\"color: #00d7ff; text-decoration-color: #00d7ff\">None</span>, <span style=\"color: #00af00; text-decoration-color: #00af00\">512</span>)            │             <span style=\"color: #00af00; text-decoration-color: #00af00\">0</span> │\n",
              "├─────────────────────────────────┼────────────────────────┼───────────────┤\n",
              "│ dense_1 (<span style=\"color: #0087ff; text-decoration-color: #0087ff\">Dense</span>)                 │ (<span style=\"color: #00d7ff; text-decoration-color: #00d7ff\">None</span>, <span style=\"color: #00af00; text-decoration-color: #00af00\">10</span>)             │         <span style=\"color: #00af00; text-decoration-color: #00af00\">5,130</span> │\n",
              "└─────────────────────────────────┴────────────────────────┴───────────────┘\n",
              "</pre>\n"
            ]
          },
          "metadata": {}
        },
        {
          "output_type": "display_data",
          "data": {
            "text/plain": [
              "\u001b[1m Total params: \u001b[0m\u001b[38;5;34m2,679,626\u001b[0m (10.22 MB)\n"
            ],
            "text/html": [
              "<pre style=\"white-space:pre;overflow-x:auto;line-height:normal;font-family:Menlo,'DejaVu Sans Mono',consolas,'Courier New',monospace\"><span style=\"font-weight: bold\"> Total params: </span><span style=\"color: #00af00; text-decoration-color: #00af00\">2,679,626</span> (10.22 MB)\n",
              "</pre>\n"
            ]
          },
          "metadata": {}
        },
        {
          "output_type": "display_data",
          "data": {
            "text/plain": [
              "\u001b[1m Trainable params: \u001b[0m\u001b[38;5;34m2,679,626\u001b[0m (10.22 MB)\n"
            ],
            "text/html": [
              "<pre style=\"white-space:pre;overflow-x:auto;line-height:normal;font-family:Menlo,'DejaVu Sans Mono',consolas,'Courier New',monospace\"><span style=\"font-weight: bold\"> Trainable params: </span><span style=\"color: #00af00; text-decoration-color: #00af00\">2,679,626</span> (10.22 MB)\n",
              "</pre>\n"
            ]
          },
          "metadata": {}
        },
        {
          "output_type": "display_data",
          "data": {
            "text/plain": [
              "\u001b[1m Non-trainable params: \u001b[0m\u001b[38;5;34m0\u001b[0m (0.00 B)\n"
            ],
            "text/html": [
              "<pre style=\"white-space:pre;overflow-x:auto;line-height:normal;font-family:Menlo,'DejaVu Sans Mono',consolas,'Courier New',monospace\"><span style=\"font-weight: bold\"> Non-trainable params: </span><span style=\"color: #00af00; text-decoration-color: #00af00\">0</span> (0.00 B)\n",
              "</pre>\n"
            ]
          },
          "metadata": {}
        }
      ]
    },
    {
      "cell_type": "code",
      "source": [
        "STEP_SIZE_TRAIN = train_generator.n // train_generator.batch_size\n",
        "STEP_SIZE_VALID = validation_generator.n // validation_generator.batch_size\n",
        "\n",
        "history = model.fit(\n",
        "    train_generator,\n",
        "    steps_per_epoch=STEP_SIZE_TRAIN,\n",
        "    validation_data=validation_generator,\n",
        "    validation_steps=STEP_SIZE_VALID,\n",
        "    epochs=150\n",
        ")"
      ],
      "metadata": {
        "colab": {
          "base_uri": "https://localhost:8080/"
        },
        "id": "l1SipoZ1hqcO",
        "outputId": "55a0c980-37a3-4448-b881-964570ab331d"
      },
      "execution_count": 37,
      "outputs": [
        {
          "output_type": "stream",
          "name": "stdout",
          "text": [
            "Epoch 1/150\n",
            "\u001b[1m25/25\u001b[0m \u001b[32m━━━━━━━━━━━━━━━━━━━━\u001b[0m\u001b[37m\u001b[0m \u001b[1m32s\u001b[0m 1s/step - accuracy: 0.5467 - loss: 1.2579 - val_accuracy: 0.5677 - val_loss: 1.2290\n",
            "Epoch 2/150\n",
            "\u001b[1m25/25\u001b[0m \u001b[32m━━━━━━━━━━━━━━━━━━━━\u001b[0m\u001b[37m\u001b[0m \u001b[1m41s\u001b[0m 2s/step - accuracy: 0.5602 - loss: 1.1589 - val_accuracy: 0.5365 - val_loss: 1.2682\n",
            "Epoch 3/150\n",
            "\u001b[1m25/25\u001b[0m \u001b[32m━━━━━━━━━━━━━━━━━━━━\u001b[0m\u001b[37m\u001b[0m \u001b[1m71s\u001b[0m 1s/step - accuracy: 0.5620 - loss: 1.2101 - val_accuracy: 0.5625 - val_loss: 1.3295\n",
            "Epoch 4/150\n",
            "\u001b[1m25/25\u001b[0m \u001b[32m━━━━━━━━━━━━━━━━━━━━\u001b[0m\u001b[37m\u001b[0m \u001b[1m31s\u001b[0m 1s/step - accuracy: 0.5449 - loss: 1.1909 - val_accuracy: 0.6146 - val_loss: 1.1161\n",
            "Epoch 5/150\n",
            "\u001b[1m25/25\u001b[0m \u001b[32m━━━━━━━━━━━━━━━━━━━━\u001b[0m\u001b[37m\u001b[0m \u001b[1m82s\u001b[0m 3s/step - accuracy: 0.5740 - loss: 1.2025 - val_accuracy: 0.5729 - val_loss: 1.2419\n",
            "Epoch 6/150\n",
            "\u001b[1m25/25\u001b[0m \u001b[32m━━━━━━━━━━━━━━━━━━━━\u001b[0m\u001b[37m\u001b[0m \u001b[1m41s\u001b[0m 1s/step - accuracy: 0.5765 - loss: 1.1816 - val_accuracy: 0.6562 - val_loss: 1.0742\n",
            "Epoch 7/150\n",
            "\u001b[1m25/25\u001b[0m \u001b[32m━━━━━━━━━━━━━━━━━━━━\u001b[0m\u001b[37m\u001b[0m \u001b[1m41s\u001b[0m 1s/step - accuracy: 0.5833 - loss: 1.1604 - val_accuracy: 0.6094 - val_loss: 1.1668\n",
            "Epoch 8/150\n",
            "\u001b[1m25/25\u001b[0m \u001b[32m━━━━━━━━━━━━━━━━━━━━\u001b[0m\u001b[37m\u001b[0m \u001b[1m41s\u001b[0m 2s/step - accuracy: 0.6048 - loss: 1.1504 - val_accuracy: 0.5365 - val_loss: 1.3740\n",
            "Epoch 9/150\n",
            "\u001b[1m25/25\u001b[0m \u001b[32m━━━━━━━━━━━━━━━━━━━━\u001b[0m\u001b[37m\u001b[0m \u001b[1m41s\u001b[0m 2s/step - accuracy: 0.6214 - loss: 1.1142 - val_accuracy: 0.5573 - val_loss: 1.2835\n",
            "Epoch 10/150\n",
            "\u001b[1m25/25\u001b[0m \u001b[32m━━━━━━━━━━━━━━━━━━━━\u001b[0m\u001b[37m\u001b[0m \u001b[1m82s\u001b[0m 2s/step - accuracy: 0.6167 - loss: 1.1224 - val_accuracy: 0.5052 - val_loss: 1.4329\n",
            "Epoch 11/150\n",
            "\u001b[1m25/25\u001b[0m \u001b[32m━━━━━━━━━━━━━━━━━━━━\u001b[0m\u001b[37m\u001b[0m \u001b[1m83s\u001b[0m 2s/step - accuracy: 0.5780 - loss: 1.1357 - val_accuracy: 0.5365 - val_loss: 1.3652\n",
            "Epoch 12/150\n",
            "\u001b[1m25/25\u001b[0m \u001b[32m━━━━━━━━━━━━━━━━━━━━\u001b[0m\u001b[37m\u001b[0m \u001b[1m41s\u001b[0m 2s/step - accuracy: 0.5719 - loss: 1.1516 - val_accuracy: 0.4896 - val_loss: 1.5697\n",
            "Epoch 13/150\n",
            "\u001b[1m25/25\u001b[0m \u001b[32m━━━━━━━━━━━━━━━━━━━━\u001b[0m\u001b[37m\u001b[0m \u001b[1m31s\u001b[0m 1s/step - accuracy: 0.6191 - loss: 1.1147 - val_accuracy: 0.6302 - val_loss: 1.0692\n",
            "Epoch 14/150\n",
            "\u001b[1m25/25\u001b[0m \u001b[32m━━━━━━━━━━━━━━━━━━━━\u001b[0m\u001b[37m\u001b[0m \u001b[1m41s\u001b[0m 2s/step - accuracy: 0.5952 - loss: 1.0884 - val_accuracy: 0.5573 - val_loss: 1.3191\n",
            "Epoch 15/150\n",
            "\u001b[1m25/25\u001b[0m \u001b[32m━━━━━━━━━━━━━━━━━━━━\u001b[0m\u001b[37m\u001b[0m \u001b[1m41s\u001b[0m 2s/step - accuracy: 0.5832 - loss: 1.1430 - val_accuracy: 0.5677 - val_loss: 1.2856\n",
            "Epoch 16/150\n",
            "\u001b[1m25/25\u001b[0m \u001b[32m━━━━━━━━━━━━━━━━━━━━\u001b[0m\u001b[37m\u001b[0m \u001b[1m72s\u001b[0m 1s/step - accuracy: 0.6002 - loss: 1.0930 - val_accuracy: 0.6250 - val_loss: 1.1057\n",
            "Epoch 17/150\n",
            "\u001b[1m25/25\u001b[0m \u001b[32m━━━━━━━━━━━━━━━━━━━━\u001b[0m\u001b[37m\u001b[0m \u001b[1m41s\u001b[0m 1s/step - accuracy: 0.5863 - loss: 1.1529 - val_accuracy: 0.5365 - val_loss: 1.4143\n",
            "Epoch 18/150\n",
            "\u001b[1m25/25\u001b[0m \u001b[32m━━━━━━━━━━━━━━━━━━━━\u001b[0m\u001b[37m\u001b[0m \u001b[1m41s\u001b[0m 1s/step - accuracy: 0.5792 - loss: 1.0819 - val_accuracy: 0.5729 - val_loss: 1.2163\n",
            "Epoch 19/150\n",
            "\u001b[1m25/25\u001b[0m \u001b[32m━━━━━━━━━━━━━━━━━━━━\u001b[0m\u001b[37m\u001b[0m \u001b[1m41s\u001b[0m 1s/step - accuracy: 0.5934 - loss: 1.0885 - val_accuracy: 0.5156 - val_loss: 1.7689\n",
            "Epoch 20/150\n",
            "\u001b[1m25/25\u001b[0m \u001b[32m━━━━━━━━━━━━━━━━━━━━\u001b[0m\u001b[37m\u001b[0m \u001b[1m41s\u001b[0m 1s/step - accuracy: 0.6421 - loss: 0.9704 - val_accuracy: 0.5417 - val_loss: 1.3430\n",
            "Epoch 21/150\n",
            "\u001b[1m25/25\u001b[0m \u001b[32m━━━━━━━━━━━━━━━━━━━━\u001b[0m\u001b[37m\u001b[0m \u001b[1m41s\u001b[0m 2s/step - accuracy: 0.6438 - loss: 1.0532 - val_accuracy: 0.5885 - val_loss: 1.2948\n",
            "Epoch 22/150\n",
            "\u001b[1m25/25\u001b[0m \u001b[32m━━━━━━━━━━━━━━━━━━━━\u001b[0m\u001b[37m\u001b[0m \u001b[1m82s\u001b[0m 2s/step - accuracy: 0.5991 - loss: 1.1223 - val_accuracy: 0.5885 - val_loss: 1.1903\n",
            "Epoch 23/150\n",
            "\u001b[1m25/25\u001b[0m \u001b[32m━━━━━━━━━━━━━━━━━━━━\u001b[0m\u001b[37m\u001b[0m \u001b[1m82s\u001b[0m 2s/step - accuracy: 0.6500 - loss: 1.0124 - val_accuracy: 0.5885 - val_loss: 1.2618\n",
            "Epoch 24/150\n",
            "\u001b[1m25/25\u001b[0m \u001b[32m━━━━━━━━━━━━━━━━━━━━\u001b[0m\u001b[37m\u001b[0m \u001b[1m41s\u001b[0m 2s/step - accuracy: 0.6543 - loss: 0.9987 - val_accuracy: 0.5521 - val_loss: 1.5104\n",
            "Epoch 25/150\n",
            "\u001b[1m25/25\u001b[0m \u001b[32m━━━━━━━━━━━━━━━━━━━━\u001b[0m\u001b[37m\u001b[0m \u001b[1m41s\u001b[0m 2s/step - accuracy: 0.6209 - loss: 1.0036 - val_accuracy: 0.6146 - val_loss: 1.2212\n",
            "Epoch 26/150\n",
            "\u001b[1m25/25\u001b[0m \u001b[32m━━━━━━━━━━━━━━━━━━━━\u001b[0m\u001b[37m\u001b[0m \u001b[1m41s\u001b[0m 2s/step - accuracy: 0.6555 - loss: 0.9657 - val_accuracy: 0.6042 - val_loss: 1.1874\n",
            "Epoch 27/150\n",
            "\u001b[1m25/25\u001b[0m \u001b[32m━━━━━━━━━━━━━━━━━━━━\u001b[0m\u001b[37m\u001b[0m \u001b[1m41s\u001b[0m 2s/step - accuracy: 0.6032 - loss: 1.0580 - val_accuracy: 0.6198 - val_loss: 1.1088\n",
            "Epoch 28/150\n",
            "\u001b[1m25/25\u001b[0m \u001b[32m━━━━━━━━━━━━━━━━━━━━\u001b[0m\u001b[37m\u001b[0m \u001b[1m41s\u001b[0m 2s/step - accuracy: 0.6447 - loss: 1.0017 - val_accuracy: 0.5781 - val_loss: 1.2163\n",
            "Epoch 29/150\n",
            "\u001b[1m25/25\u001b[0m \u001b[32m━━━━━━━━━━━━━━━━━━━━\u001b[0m\u001b[37m\u001b[0m \u001b[1m41s\u001b[0m 2s/step - accuracy: 0.6215 - loss: 1.0809 - val_accuracy: 0.6458 - val_loss: 1.1120\n",
            "Epoch 30/150\n",
            "\u001b[1m25/25\u001b[0m \u001b[32m━━━━━━━━━━━━━━━━━━━━\u001b[0m\u001b[37m\u001b[0m \u001b[1m82s\u001b[0m 2s/step - accuracy: 0.6668 - loss: 0.9582 - val_accuracy: 0.5990 - val_loss: 1.3301\n",
            "Epoch 31/150\n",
            "\u001b[1m25/25\u001b[0m \u001b[32m━━━━━━━━━━━━━━━━━━━━\u001b[0m\u001b[37m\u001b[0m \u001b[1m41s\u001b[0m 2s/step - accuracy: 0.6560 - loss: 0.9612 - val_accuracy: 0.5104 - val_loss: 1.7734\n",
            "Epoch 32/150\n",
            "\u001b[1m25/25\u001b[0m \u001b[32m━━━━━━━━━━━━━━━━━━━━\u001b[0m\u001b[37m\u001b[0m \u001b[1m41s\u001b[0m 2s/step - accuracy: 0.6455 - loss: 0.9799 - val_accuracy: 0.5990 - val_loss: 1.2734\n",
            "Epoch 33/150\n",
            "\u001b[1m25/25\u001b[0m \u001b[32m━━━━━━━━━━━━━━━━━━━━\u001b[0m\u001b[37m\u001b[0m \u001b[1m82s\u001b[0m 2s/step - accuracy: 0.6385 - loss: 1.0076 - val_accuracy: 0.5573 - val_loss: 1.3283\n",
            "Epoch 34/150\n",
            "\u001b[1m25/25\u001b[0m \u001b[32m━━━━━━━━━━━━━━━━━━━━\u001b[0m\u001b[37m\u001b[0m \u001b[1m41s\u001b[0m 2s/step - accuracy: 0.6550 - loss: 0.9480 - val_accuracy: 0.6146 - val_loss: 1.1510\n",
            "Epoch 35/150\n",
            "\u001b[1m25/25\u001b[0m \u001b[32m━━━━━━━━━━━━━━━━━━━━\u001b[0m\u001b[37m\u001b[0m \u001b[1m30s\u001b[0m 1s/step - accuracy: 0.6610 - loss: 0.9641 - val_accuracy: 0.6146 - val_loss: 1.0917\n",
            "Epoch 36/150\n",
            "\u001b[1m25/25\u001b[0m \u001b[32m━━━━━━━━━━━━━━━━━━━━\u001b[0m\u001b[37m\u001b[0m \u001b[1m41s\u001b[0m 2s/step - accuracy: 0.6860 - loss: 0.9091 - val_accuracy: 0.4792 - val_loss: 1.9431\n",
            "Epoch 37/150\n",
            "\u001b[1m25/25\u001b[0m \u001b[32m━━━━━━━━━━━━━━━━━━━━\u001b[0m\u001b[37m\u001b[0m \u001b[1m32s\u001b[0m 1s/step - accuracy: 0.6703 - loss: 0.9219 - val_accuracy: 0.5469 - val_loss: 1.3342\n",
            "Epoch 38/150\n",
            "\u001b[1m25/25\u001b[0m \u001b[32m━━━━━━━━━━━━━━━━━━━━\u001b[0m\u001b[37m\u001b[0m \u001b[1m31s\u001b[0m 1s/step - accuracy: 0.6578 - loss: 0.9589 - val_accuracy: 0.5625 - val_loss: 1.4030\n",
            "Epoch 39/150\n",
            "\u001b[1m25/25\u001b[0m \u001b[32m━━━━━━━━━━━━━━━━━━━━\u001b[0m\u001b[37m\u001b[0m \u001b[1m41s\u001b[0m 1s/step - accuracy: 0.6637 - loss: 0.8856 - val_accuracy: 0.5729 - val_loss: 1.2407\n",
            "Epoch 40/150\n",
            "\u001b[1m25/25\u001b[0m \u001b[32m━━━━━━━━━━━━━━━━━━━━\u001b[0m\u001b[37m\u001b[0m \u001b[1m40s\u001b[0m 1s/step - accuracy: 0.6503 - loss: 1.0027 - val_accuracy: 0.6615 - val_loss: 1.1638\n",
            "Epoch 41/150\n",
            "\u001b[1m25/25\u001b[0m \u001b[32m━━━━━━━━━━━━━━━━━━━━\u001b[0m\u001b[37m\u001b[0m \u001b[1m41s\u001b[0m 2s/step - accuracy: 0.7058 - loss: 0.9407 - val_accuracy: 0.6615 - val_loss: 1.1054\n",
            "Epoch 42/150\n",
            "\u001b[1m25/25\u001b[0m \u001b[32m━━━━━━━━━━━━━━━━━━━━\u001b[0m\u001b[37m\u001b[0m \u001b[1m41s\u001b[0m 2s/step - accuracy: 0.6744 - loss: 0.8974 - val_accuracy: 0.6042 - val_loss: 1.2121\n",
            "Epoch 43/150\n",
            "\u001b[1m25/25\u001b[0m \u001b[32m━━━━━━━━━━━━━━━━━━━━\u001b[0m\u001b[37m\u001b[0m \u001b[1m41s\u001b[0m 2s/step - accuracy: 0.6317 - loss: 1.0376 - val_accuracy: 0.6198 - val_loss: 1.1691\n",
            "Epoch 44/150\n",
            "\u001b[1m25/25\u001b[0m \u001b[32m━━━━━━━━━━━━━━━━━━━━\u001b[0m\u001b[37m\u001b[0m \u001b[1m41s\u001b[0m 2s/step - accuracy: 0.6618 - loss: 0.9143 - val_accuracy: 0.5729 - val_loss: 1.2390\n",
            "Epoch 45/150\n",
            "\u001b[1m25/25\u001b[0m \u001b[32m━━━━━━━━━━━━━━━━━━━━\u001b[0m\u001b[37m\u001b[0m \u001b[1m82s\u001b[0m 2s/step - accuracy: 0.6702 - loss: 0.9330 - val_accuracy: 0.6406 - val_loss: 1.1502\n",
            "Epoch 46/150\n",
            "\u001b[1m25/25\u001b[0m \u001b[32m━━━━━━━━━━━━━━━━━━━━\u001b[0m\u001b[37m\u001b[0m \u001b[1m41s\u001b[0m 2s/step - accuracy: 0.6948 - loss: 0.8972 - val_accuracy: 0.6302 - val_loss: 1.1714\n",
            "Epoch 47/150\n",
            "\u001b[1m25/25\u001b[0m \u001b[32m━━━━━━━━━━━━━━━━━━━━\u001b[0m\u001b[37m\u001b[0m \u001b[1m41s\u001b[0m 2s/step - accuracy: 0.6516 - loss: 0.9687 - val_accuracy: 0.6458 - val_loss: 1.0667\n",
            "Epoch 48/150\n",
            "\u001b[1m25/25\u001b[0m \u001b[32m━━━━━━━━━━━━━━━━━━━━\u001b[0m\u001b[37m\u001b[0m \u001b[1m41s\u001b[0m 2s/step - accuracy: 0.7096 - loss: 0.8610 - val_accuracy: 0.6146 - val_loss: 1.1017\n",
            "Epoch 49/150\n",
            "\u001b[1m25/25\u001b[0m \u001b[32m━━━━━━━━━━━━━━━━━━━━\u001b[0m\u001b[37m\u001b[0m \u001b[1m41s\u001b[0m 2s/step - accuracy: 0.6748 - loss: 0.9196 - val_accuracy: 0.5677 - val_loss: 1.6155\n",
            "Epoch 50/150\n",
            "\u001b[1m25/25\u001b[0m \u001b[32m━━━━━━━━━━━━━━━━━━━━\u001b[0m\u001b[37m\u001b[0m \u001b[1m71s\u001b[0m 1s/step - accuracy: 0.6532 - loss: 0.9535 - val_accuracy: 0.6198 - val_loss: 1.1297\n",
            "Epoch 51/150\n",
            "\u001b[1m25/25\u001b[0m \u001b[32m━━━━━━━━━━━━━━━━━━━━\u001b[0m\u001b[37m\u001b[0m \u001b[1m30s\u001b[0m 1s/step - accuracy: 0.6663 - loss: 0.8853 - val_accuracy: 0.5729 - val_loss: 1.4213\n",
            "Epoch 52/150\n",
            "\u001b[1m25/25\u001b[0m \u001b[32m━━━━━━━━━━━━━━━━━━━━\u001b[0m\u001b[37m\u001b[0m \u001b[1m41s\u001b[0m 1s/step - accuracy: 0.6905 - loss: 0.8715 - val_accuracy: 0.5990 - val_loss: 1.2532\n",
            "Epoch 53/150\n",
            "\u001b[1m25/25\u001b[0m \u001b[32m━━━━━━━━━━━━━━━━━━━━\u001b[0m\u001b[37m\u001b[0m \u001b[1m42s\u001b[0m 1s/step - accuracy: 0.6331 - loss: 0.9650 - val_accuracy: 0.5677 - val_loss: 1.4352\n",
            "Epoch 54/150\n",
            "\u001b[1m25/25\u001b[0m \u001b[32m━━━━━━━━━━━━━━━━━━━━\u001b[0m\u001b[37m\u001b[0m \u001b[1m31s\u001b[0m 1s/step - accuracy: 0.7245 - loss: 0.8031 - val_accuracy: 0.6146 - val_loss: 1.3100\n",
            "Epoch 55/150\n",
            "\u001b[1m25/25\u001b[0m \u001b[32m━━━━━━━━━━━━━━━━━━━━\u001b[0m\u001b[37m\u001b[0m \u001b[1m31s\u001b[0m 1s/step - accuracy: 0.6718 - loss: 0.8998 - val_accuracy: 0.6094 - val_loss: 1.2463\n",
            "Epoch 56/150\n",
            "\u001b[1m25/25\u001b[0m \u001b[32m━━━━━━━━━━━━━━━━━━━━\u001b[0m\u001b[37m\u001b[0m \u001b[1m31s\u001b[0m 1s/step - accuracy: 0.6958 - loss: 0.8369 - val_accuracy: 0.5625 - val_loss: 1.5617\n",
            "Epoch 57/150\n",
            "\u001b[1m25/25\u001b[0m \u001b[32m━━━━━━━━━━━━━━━━━━━━\u001b[0m\u001b[37m\u001b[0m \u001b[1m40s\u001b[0m 1s/step - accuracy: 0.6690 - loss: 0.8641 - val_accuracy: 0.6823 - val_loss: 1.1101\n",
            "Epoch 58/150\n",
            "\u001b[1m25/25\u001b[0m \u001b[32m━━━━━━━━━━━━━━━━━━━━\u001b[0m\u001b[37m\u001b[0m \u001b[1m41s\u001b[0m 2s/step - accuracy: 0.7168 - loss: 0.7796 - val_accuracy: 0.4688 - val_loss: 2.0396\n",
            "Epoch 59/150\n",
            "\u001b[1m25/25\u001b[0m \u001b[32m━━━━━━━━━━━━━━━━━━━━\u001b[0m\u001b[37m\u001b[0m \u001b[1m41s\u001b[0m 2s/step - accuracy: 0.7362 - loss: 0.8029 - val_accuracy: 0.6510 - val_loss: 1.1495\n",
            "Epoch 60/150\n",
            "\u001b[1m25/25\u001b[0m \u001b[32m━━━━━━━━━━━━━━━━━━━━\u001b[0m\u001b[37m\u001b[0m \u001b[1m41s\u001b[0m 2s/step - accuracy: 0.6750 - loss: 0.9356 - val_accuracy: 0.5729 - val_loss: 1.3200\n",
            "Epoch 61/150\n",
            "\u001b[1m25/25\u001b[0m \u001b[32m━━━━━━━━━━━━━━━━━━━━\u001b[0m\u001b[37m\u001b[0m \u001b[1m41s\u001b[0m 2s/step - accuracy: 0.6701 - loss: 0.8810 - val_accuracy: 0.6146 - val_loss: 1.3099\n",
            "Epoch 62/150\n",
            "\u001b[1m25/25\u001b[0m \u001b[32m━━━━━━━━━━━━━━━━━━━━\u001b[0m\u001b[37m\u001b[0m \u001b[1m32s\u001b[0m 1s/step - accuracy: 0.7304 - loss: 0.7179 - val_accuracy: 0.6146 - val_loss: 1.3678\n",
            "Epoch 63/150\n",
            "\u001b[1m25/25\u001b[0m \u001b[32m━━━━━━━━━━━━━━━━━━━━\u001b[0m\u001b[37m\u001b[0m \u001b[1m31s\u001b[0m 1s/step - accuracy: 0.6801 - loss: 0.8343 - val_accuracy: 0.5885 - val_loss: 1.3082\n",
            "Epoch 64/150\n",
            "\u001b[1m25/25\u001b[0m \u001b[32m━━━━━━━━━━━━━━━━━━━━\u001b[0m\u001b[37m\u001b[0m \u001b[1m31s\u001b[0m 1s/step - accuracy: 0.7067 - loss: 0.7680 - val_accuracy: 0.5208 - val_loss: 1.7199\n",
            "Epoch 65/150\n",
            "\u001b[1m25/25\u001b[0m \u001b[32m━━━━━━━━━━━━━━━━━━━━\u001b[0m\u001b[37m\u001b[0m \u001b[1m41s\u001b[0m 2s/step - accuracy: 0.6722 - loss: 0.8194 - val_accuracy: 0.6719 - val_loss: 1.0359\n",
            "Epoch 66/150\n",
            "\u001b[1m25/25\u001b[0m \u001b[32m━━━━━━━━━━━━━━━━━━━━\u001b[0m\u001b[37m\u001b[0m \u001b[1m41s\u001b[0m 2s/step - accuracy: 0.6788 - loss: 0.8655 - val_accuracy: 0.6354 - val_loss: 1.2184\n",
            "Epoch 67/150\n",
            "\u001b[1m25/25\u001b[0m \u001b[32m━━━━━━━━━━━━━━━━━━━━\u001b[0m\u001b[37m\u001b[0m \u001b[1m82s\u001b[0m 2s/step - accuracy: 0.7001 - loss: 0.8470 - val_accuracy: 0.5938 - val_loss: 1.5590\n",
            "Epoch 68/150\n",
            "\u001b[1m25/25\u001b[0m \u001b[32m━━━━━━━━━━━━━━━━━━━━\u001b[0m\u001b[37m\u001b[0m \u001b[1m41s\u001b[0m 2s/step - accuracy: 0.6972 - loss: 0.7904 - val_accuracy: 0.6042 - val_loss: 1.2985\n",
            "Epoch 69/150\n",
            "\u001b[1m25/25\u001b[0m \u001b[32m━━━━━━━━━━━━━━━━━━━━\u001b[0m\u001b[37m\u001b[0m \u001b[1m41s\u001b[0m 2s/step - accuracy: 0.7332 - loss: 0.7651 - val_accuracy: 0.5990 - val_loss: 1.3233\n",
            "Epoch 70/150\n",
            "\u001b[1m25/25\u001b[0m \u001b[32m━━━━━━━━━━━━━━━━━━━━\u001b[0m\u001b[37m\u001b[0m \u001b[1m41s\u001b[0m 2s/step - accuracy: 0.7698 - loss: 0.6770 - val_accuracy: 0.6458 - val_loss: 1.1180\n",
            "Epoch 71/150\n",
            "\u001b[1m25/25\u001b[0m \u001b[32m━━━━━━━━━━━━━━━━━━━━\u001b[0m\u001b[37m\u001b[0m \u001b[1m82s\u001b[0m 2s/step - accuracy: 0.7484 - loss: 0.7237 - val_accuracy: 0.6042 - val_loss: 1.3303\n",
            "Epoch 72/150\n",
            "\u001b[1m25/25\u001b[0m \u001b[32m━━━━━━━━━━━━━━━━━━━━\u001b[0m\u001b[37m\u001b[0m \u001b[1m31s\u001b[0m 1s/step - accuracy: 0.6976 - loss: 0.7914 - val_accuracy: 0.5990 - val_loss: 1.2718\n",
            "Epoch 73/150\n",
            "\u001b[1m25/25\u001b[0m \u001b[32m━━━━━━━━━━━━━━━━━━━━\u001b[0m\u001b[37m\u001b[0m \u001b[1m41s\u001b[0m 1s/step - accuracy: 0.7323 - loss: 0.7674 - val_accuracy: 0.5990 - val_loss: 1.3900\n",
            "Epoch 74/150\n",
            "\u001b[1m25/25\u001b[0m \u001b[32m━━━━━━━━━━━━━━━━━━━━\u001b[0m\u001b[37m\u001b[0m \u001b[1m82s\u001b[0m 3s/step - accuracy: 0.7291 - loss: 0.7602 - val_accuracy: 0.5833 - val_loss: 1.2835\n",
            "Epoch 75/150\n",
            "\u001b[1m25/25\u001b[0m \u001b[32m━━━━━━━━━━━━━━━━━━━━\u001b[0m\u001b[37m\u001b[0m \u001b[1m41s\u001b[0m 2s/step - accuracy: 0.7082 - loss: 0.7712 - val_accuracy: 0.6094 - val_loss: 1.4436\n",
            "Epoch 76/150\n",
            "\u001b[1m25/25\u001b[0m \u001b[32m━━━━━━━━━━━━━━━━━━━━\u001b[0m\u001b[37m\u001b[0m \u001b[1m41s\u001b[0m 2s/step - accuracy: 0.7377 - loss: 0.7275 - val_accuracy: 0.6823 - val_loss: 1.0902\n",
            "Epoch 77/150\n",
            "\u001b[1m25/25\u001b[0m \u001b[32m━━━━━━━━━━━━━━━━━━━━\u001b[0m\u001b[37m\u001b[0m \u001b[1m41s\u001b[0m 2s/step - accuracy: 0.7399 - loss: 0.7485 - val_accuracy: 0.5833 - val_loss: 1.5869\n",
            "Epoch 78/150\n",
            "\u001b[1m25/25\u001b[0m \u001b[32m━━━━━━━━━━━━━━━━━━━━\u001b[0m\u001b[37m\u001b[0m \u001b[1m32s\u001b[0m 1s/step - accuracy: 0.7460 - loss: 0.6919 - val_accuracy: 0.6094 - val_loss: 1.2996\n",
            "Epoch 79/150\n",
            "\u001b[1m25/25\u001b[0m \u001b[32m━━━━━━━━━━━━━━━━━━━━\u001b[0m\u001b[37m\u001b[0m \u001b[1m81s\u001b[0m 3s/step - accuracy: 0.7266 - loss: 0.7263 - val_accuracy: 0.6198 - val_loss: 1.3403\n",
            "Epoch 80/150\n",
            "\u001b[1m25/25\u001b[0m \u001b[32m━━━━━━━━━━━━━━━━━━━━\u001b[0m\u001b[37m\u001b[0m \u001b[1m41s\u001b[0m 2s/step - accuracy: 0.7067 - loss: 0.8278 - val_accuracy: 0.6094 - val_loss: 1.3165\n",
            "Epoch 81/150\n",
            "\u001b[1m25/25\u001b[0m \u001b[32m━━━━━━━━━━━━━━━━━━━━\u001b[0m\u001b[37m\u001b[0m \u001b[1m41s\u001b[0m 2s/step - accuracy: 0.7374 - loss: 0.6750 - val_accuracy: 0.5833 - val_loss: 1.6071\n",
            "Epoch 82/150\n",
            "\u001b[1m25/25\u001b[0m \u001b[32m━━━━━━━━━━━━━━━━━━━━\u001b[0m\u001b[37m\u001b[0m \u001b[1m82s\u001b[0m 2s/step - accuracy: 0.7035 - loss: 0.8433 - val_accuracy: 0.6198 - val_loss: 1.3814\n",
            "Epoch 83/150\n",
            "\u001b[1m25/25\u001b[0m \u001b[32m━━━━━━━━━━━━━━━━━━━━\u001b[0m\u001b[37m\u001b[0m \u001b[1m31s\u001b[0m 1s/step - accuracy: 0.7335 - loss: 0.7177 - val_accuracy: 0.6042 - val_loss: 1.5533\n",
            "Epoch 84/150\n",
            "\u001b[1m25/25\u001b[0m \u001b[32m━━━━━━━━━━━━━━━━━━━━\u001b[0m\u001b[37m\u001b[0m \u001b[1m31s\u001b[0m 1s/step - accuracy: 0.7294 - loss: 0.7008 - val_accuracy: 0.6146 - val_loss: 1.4280\n",
            "Epoch 85/150\n",
            "\u001b[1m25/25\u001b[0m \u001b[32m━━━━━━━━━━━━━━━━━━━━\u001b[0m\u001b[37m\u001b[0m \u001b[1m42s\u001b[0m 1s/step - accuracy: 0.7500 - loss: 0.6852 - val_accuracy: 0.6771 - val_loss: 1.2284\n",
            "Epoch 86/150\n",
            "\u001b[1m25/25\u001b[0m \u001b[32m━━━━━━━━━━━━━━━━━━━━\u001b[0m\u001b[37m\u001b[0m \u001b[1m41s\u001b[0m 2s/step - accuracy: 0.7310 - loss: 0.7403 - val_accuracy: 0.6771 - val_loss: 1.1887\n",
            "Epoch 87/150\n",
            "\u001b[1m25/25\u001b[0m \u001b[32m━━━━━━━━━━━━━━━━━━━━\u001b[0m\u001b[37m\u001b[0m \u001b[1m31s\u001b[0m 1s/step - accuracy: 0.7615 - loss: 0.6714 - val_accuracy: 0.5938 - val_loss: 1.5721\n",
            "Epoch 88/150\n",
            "\u001b[1m25/25\u001b[0m \u001b[32m━━━━━━━━━━━━━━━━━━━━\u001b[0m\u001b[37m\u001b[0m \u001b[1m41s\u001b[0m 1s/step - accuracy: 0.7468 - loss: 0.6776 - val_accuracy: 0.5573 - val_loss: 1.7309\n",
            "Epoch 89/150\n",
            "\u001b[1m25/25\u001b[0m \u001b[32m━━━━━━━━━━━━━━━━━━━━\u001b[0m\u001b[37m\u001b[0m \u001b[1m41s\u001b[0m 2s/step - accuracy: 0.7448 - loss: 0.7062 - val_accuracy: 0.6250 - val_loss: 1.1970\n",
            "Epoch 90/150\n",
            "\u001b[1m25/25\u001b[0m \u001b[32m━━━━━━━━━━━━━━━━━━━━\u001b[0m\u001b[37m\u001b[0m \u001b[1m41s\u001b[0m 2s/step - accuracy: 0.7511 - loss: 0.7542 - val_accuracy: 0.5938 - val_loss: 1.4356\n",
            "Epoch 91/150\n",
            "\u001b[1m25/25\u001b[0m \u001b[32m━━━━━━━━━━━━━━━━━━━━\u001b[0m\u001b[37m\u001b[0m \u001b[1m41s\u001b[0m 2s/step - accuracy: 0.7714 - loss: 0.6639 - val_accuracy: 0.6250 - val_loss: 1.3293\n",
            "Epoch 92/150\n",
            "\u001b[1m25/25\u001b[0m \u001b[32m━━━━━━━━━━━━━━━━━━━━\u001b[0m\u001b[37m\u001b[0m \u001b[1m72s\u001b[0m 1s/step - accuracy: 0.7476 - loss: 0.6831 - val_accuracy: 0.6146 - val_loss: 1.2674\n",
            "Epoch 93/150\n",
            "\u001b[1m25/25\u001b[0m \u001b[32m━━━━━━━━━━━━━━━━━━━━\u001b[0m\u001b[37m\u001b[0m \u001b[1m41s\u001b[0m 2s/step - accuracy: 0.8112 - loss: 0.5816 - val_accuracy: 0.6198 - val_loss: 1.3062\n",
            "Epoch 94/150\n",
            "\u001b[1m25/25\u001b[0m \u001b[32m━━━━━━━━━━━━━━━━━━━━\u001b[0m\u001b[37m\u001b[0m \u001b[1m41s\u001b[0m 2s/step - accuracy: 0.7837 - loss: 0.5970 - val_accuracy: 0.6094 - val_loss: 1.3368\n",
            "Epoch 95/150\n",
            "\u001b[1m25/25\u001b[0m \u001b[32m━━━━━━━━━━━━━━━━━━━━\u001b[0m\u001b[37m\u001b[0m \u001b[1m41s\u001b[0m 2s/step - accuracy: 0.7825 - loss: 0.6085 - val_accuracy: 0.6042 - val_loss: 1.2485\n",
            "Epoch 96/150\n",
            "\u001b[1m25/25\u001b[0m \u001b[32m━━━━━━━━━━━━━━━━━━━━\u001b[0m\u001b[37m\u001b[0m \u001b[1m41s\u001b[0m 2s/step - accuracy: 0.7861 - loss: 0.6243 - val_accuracy: 0.6042 - val_loss: 1.6842\n",
            "Epoch 97/150\n",
            "\u001b[1m25/25\u001b[0m \u001b[32m━━━━━━━━━━━━━━━━━━━━\u001b[0m\u001b[37m\u001b[0m \u001b[1m41s\u001b[0m 2s/step - accuracy: 0.7514 - loss: 0.7101 - val_accuracy: 0.6250 - val_loss: 1.3116\n",
            "Epoch 98/150\n",
            "\u001b[1m25/25\u001b[0m \u001b[32m━━━━━━━━━━━━━━━━━━━━\u001b[0m\u001b[37m\u001b[0m \u001b[1m41s\u001b[0m 2s/step - accuracy: 0.7362 - loss: 0.7016 - val_accuracy: 0.6667 - val_loss: 1.1846\n",
            "Epoch 99/150\n",
            "\u001b[1m25/25\u001b[0m \u001b[32m━━━━━━━━━━━━━━━━━━━━\u001b[0m\u001b[37m\u001b[0m \u001b[1m41s\u001b[0m 2s/step - accuracy: 0.7695 - loss: 0.7011 - val_accuracy: 0.6042 - val_loss: 1.7727\n",
            "Epoch 100/150\n",
            "\u001b[1m25/25\u001b[0m \u001b[32m━━━━━━━━━━━━━━━━━━━━\u001b[0m\u001b[37m\u001b[0m \u001b[1m41s\u001b[0m 2s/step - accuracy: 0.7548 - loss: 0.6877 - val_accuracy: 0.6510 - val_loss: 1.2359\n",
            "Epoch 101/150\n",
            "\u001b[1m25/25\u001b[0m \u001b[32m━━━━━━━━━━━━━━━━━━━━\u001b[0m\u001b[37m\u001b[0m \u001b[1m41s\u001b[0m 2s/step - accuracy: 0.7659 - loss: 0.6282 - val_accuracy: 0.6042 - val_loss: 1.4910\n",
            "Epoch 102/150\n",
            "\u001b[1m25/25\u001b[0m \u001b[32m━━━━━━━━━━━━━━━━━━━━\u001b[0m\u001b[37m\u001b[0m \u001b[1m41s\u001b[0m 2s/step - accuracy: 0.7823 - loss: 0.6243 - val_accuracy: 0.5990 - val_loss: 1.3396\n",
            "Epoch 103/150\n",
            "\u001b[1m25/25\u001b[0m \u001b[32m━━━━━━━━━━━━━━━━━━━━\u001b[0m\u001b[37m\u001b[0m \u001b[1m41s\u001b[0m 2s/step - accuracy: 0.7417 - loss: 0.6970 - val_accuracy: 0.6354 - val_loss: 1.2574\n",
            "Epoch 104/150\n",
            "\u001b[1m25/25\u001b[0m \u001b[32m━━━━━━━━━━━━━━━━━━━━\u001b[0m\u001b[37m\u001b[0m \u001b[1m81s\u001b[0m 2s/step - accuracy: 0.7844 - loss: 0.5984 - val_accuracy: 0.6302 - val_loss: 1.3090\n",
            "Epoch 105/150\n",
            "\u001b[1m25/25\u001b[0m \u001b[32m━━━━━━━━━━━━━━━━━━━━\u001b[0m\u001b[37m\u001b[0m \u001b[1m31s\u001b[0m 1s/step - accuracy: 0.7824 - loss: 0.6530 - val_accuracy: 0.6927 - val_loss: 1.1269\n",
            "Epoch 106/150\n",
            "\u001b[1m25/25\u001b[0m \u001b[32m━━━━━━━━━━━━━━━━━━━━\u001b[0m\u001b[37m\u001b[0m \u001b[1m41s\u001b[0m 1s/step - accuracy: 0.7802 - loss: 0.5816 - val_accuracy: 0.6615 - val_loss: 1.2862\n",
            "Epoch 107/150\n",
            "\u001b[1m25/25\u001b[0m \u001b[32m━━━━━━━━━━━━━━━━━━━━\u001b[0m\u001b[37m\u001b[0m \u001b[1m41s\u001b[0m 2s/step - accuracy: 0.7802 - loss: 0.6123 - val_accuracy: 0.5885 - val_loss: 1.6555\n",
            "Epoch 108/150\n",
            "\u001b[1m25/25\u001b[0m \u001b[32m━━━━━━━━━━━━━━━━━━━━\u001b[0m\u001b[37m\u001b[0m \u001b[1m41s\u001b[0m 2s/step - accuracy: 0.7650 - loss: 0.6312 - val_accuracy: 0.6562 - val_loss: 1.2593\n",
            "Epoch 109/150\n",
            "\u001b[1m25/25\u001b[0m \u001b[32m━━━━━━━━━━━━━━━━━━━━\u001b[0m\u001b[37m\u001b[0m \u001b[1m41s\u001b[0m 2s/step - accuracy: 0.7526 - loss: 0.7046 - val_accuracy: 0.6510 - val_loss: 1.2818\n",
            "Epoch 110/150\n",
            "\u001b[1m25/25\u001b[0m \u001b[32m━━━━━━━━━━━━━━━━━━━━\u001b[0m\u001b[37m\u001b[0m \u001b[1m41s\u001b[0m 2s/step - accuracy: 0.7507 - loss: 0.6680 - val_accuracy: 0.6250 - val_loss: 1.4535\n",
            "Epoch 111/150\n",
            "\u001b[1m25/25\u001b[0m \u001b[32m━━━━━━━━━━━━━━━━━━━━\u001b[0m\u001b[37m\u001b[0m \u001b[1m32s\u001b[0m 1s/step - accuracy: 0.7885 - loss: 0.6010 - val_accuracy: 0.6406 - val_loss: 1.4187\n",
            "Epoch 112/150\n",
            "\u001b[1m25/25\u001b[0m \u001b[32m━━━━━━━━━━━━━━━━━━━━\u001b[0m\u001b[37m\u001b[0m \u001b[1m41s\u001b[0m 1s/step - accuracy: 0.8000 - loss: 0.5633 - val_accuracy: 0.6771 - val_loss: 1.2302\n",
            "Epoch 113/150\n",
            "\u001b[1m25/25\u001b[0m \u001b[32m━━━━━━━━━━━━━━━━━━━━\u001b[0m\u001b[37m\u001b[0m \u001b[1m41s\u001b[0m 2s/step - accuracy: 0.7962 - loss: 0.5571 - val_accuracy: 0.6146 - val_loss: 1.5017\n",
            "Epoch 114/150\n",
            "\u001b[1m25/25\u001b[0m \u001b[32m━━━━━━━━━━━━━━━━━━━━\u001b[0m\u001b[37m\u001b[0m \u001b[1m31s\u001b[0m 1s/step - accuracy: 0.7705 - loss: 0.5742 - val_accuracy: 0.6510 - val_loss: 1.3063\n",
            "Epoch 115/150\n",
            "\u001b[1m25/25\u001b[0m \u001b[32m━━━━━━━━━━━━━━━━━━━━\u001b[0m\u001b[37m\u001b[0m \u001b[1m41s\u001b[0m 2s/step - accuracy: 0.7781 - loss: 0.6197 - val_accuracy: 0.6406 - val_loss: 1.2612\n",
            "Epoch 116/150\n",
            "\u001b[1m25/25\u001b[0m \u001b[32m━━━━━━━━━━━━━━━━━━━━\u001b[0m\u001b[37m\u001b[0m \u001b[1m30s\u001b[0m 1s/step - accuracy: 0.8044 - loss: 0.6022 - val_accuracy: 0.5990 - val_loss: 1.5781\n",
            "Epoch 117/150\n",
            "\u001b[1m25/25\u001b[0m \u001b[32m━━━━━━━━━━━━━━━━━━━━\u001b[0m\u001b[37m\u001b[0m \u001b[1m43s\u001b[0m 1s/step - accuracy: 0.7755 - loss: 0.6065 - val_accuracy: 0.6667 - val_loss: 1.4382\n",
            "Epoch 118/150\n",
            "\u001b[1m25/25\u001b[0m \u001b[32m━━━━━━━━━━━━━━━━━━━━\u001b[0m\u001b[37m\u001b[0m \u001b[1m41s\u001b[0m 2s/step - accuracy: 0.8134 - loss: 0.5190 - val_accuracy: 0.5990 - val_loss: 1.4207\n",
            "Epoch 119/150\n",
            "\u001b[1m25/25\u001b[0m \u001b[32m━━━━━━━━━━━━━━━━━━━━\u001b[0m\u001b[37m\u001b[0m \u001b[1m41s\u001b[0m 2s/step - accuracy: 0.7950 - loss: 0.6288 - val_accuracy: 0.6510 - val_loss: 1.1947\n",
            "Epoch 120/150\n",
            "\u001b[1m25/25\u001b[0m \u001b[32m━━━━━━━━━━━━━━━━━━━━\u001b[0m\u001b[37m\u001b[0m \u001b[1m40s\u001b[0m 2s/step - accuracy: 0.8186 - loss: 0.5269 - val_accuracy: 0.6562 - val_loss: 1.2157\n",
            "Epoch 121/150\n",
            "\u001b[1m25/25\u001b[0m \u001b[32m━━━━━━━━━━━━━━━━━━━━\u001b[0m\u001b[37m\u001b[0m \u001b[1m41s\u001b[0m 2s/step - accuracy: 0.8104 - loss: 0.5222 - val_accuracy: 0.6562 - val_loss: 1.4123\n",
            "Epoch 122/150\n",
            "\u001b[1m25/25\u001b[0m \u001b[32m━━━━━━━━━━━━━━━━━━━━\u001b[0m\u001b[37m\u001b[0m \u001b[1m41s\u001b[0m 2s/step - accuracy: 0.7922 - loss: 0.5899 - val_accuracy: 0.6510 - val_loss: 1.2430\n",
            "Epoch 123/150\n",
            "\u001b[1m25/25\u001b[0m \u001b[32m━━━━━━━━━━━━━━━━━━━━\u001b[0m\u001b[37m\u001b[0m \u001b[1m41s\u001b[0m 2s/step - accuracy: 0.7826 - loss: 0.5893 - val_accuracy: 0.6094 - val_loss: 1.3897\n",
            "Epoch 124/150\n",
            "\u001b[1m25/25\u001b[0m \u001b[32m━━━━━━━━━━━━━━━━━━━━\u001b[0m\u001b[37m\u001b[0m \u001b[1m31s\u001b[0m 1s/step - accuracy: 0.8250 - loss: 0.4792 - val_accuracy: 0.6198 - val_loss: 1.2876\n",
            "Epoch 125/150\n",
            "\u001b[1m25/25\u001b[0m \u001b[32m━━━━━━━━━━━━━━━━━━━━\u001b[0m\u001b[37m\u001b[0m \u001b[1m81s\u001b[0m 3s/step - accuracy: 0.8037 - loss: 0.5204 - val_accuracy: 0.6458 - val_loss: 1.3571\n",
            "Epoch 126/150\n",
            "\u001b[1m25/25\u001b[0m \u001b[32m━━━━━━━━━━━━━━━━━━━━\u001b[0m\u001b[37m\u001b[0m \u001b[1m41s\u001b[0m 2s/step - accuracy: 0.8273 - loss: 0.4399 - val_accuracy: 0.6667 - val_loss: 1.4052\n",
            "Epoch 127/150\n",
            "\u001b[1m25/25\u001b[0m \u001b[32m━━━━━━━━━━━━━━━━━━━━\u001b[0m\u001b[37m\u001b[0m \u001b[1m72s\u001b[0m 1s/step - accuracy: 0.8041 - loss: 0.5380 - val_accuracy: 0.5938 - val_loss: 1.5889\n",
            "Epoch 128/150\n",
            "\u001b[1m25/25\u001b[0m \u001b[32m━━━━━━━━━━━━━━━━━━━━\u001b[0m\u001b[37m\u001b[0m \u001b[1m41s\u001b[0m 1s/step - accuracy: 0.7933 - loss: 0.6245 - val_accuracy: 0.6094 - val_loss: 1.3745\n",
            "Epoch 129/150\n",
            "\u001b[1m25/25\u001b[0m \u001b[32m━━━━━━━━━━━━━━━━━━━━\u001b[0m\u001b[37m\u001b[0m \u001b[1m31s\u001b[0m 1s/step - accuracy: 0.7943 - loss: 0.5440 - val_accuracy: 0.6146 - val_loss: 1.6527\n",
            "Epoch 130/150\n",
            "\u001b[1m25/25\u001b[0m \u001b[32m━━━━━━━━━━━━━━━━━━━━\u001b[0m\u001b[37m\u001b[0m \u001b[1m41s\u001b[0m 2s/step - accuracy: 0.7980 - loss: 0.5609 - val_accuracy: 0.6406 - val_loss: 1.4388\n",
            "Epoch 131/150\n",
            "\u001b[1m25/25\u001b[0m \u001b[32m━━━━━━━━━━━━━━━━━━━━\u001b[0m\u001b[37m\u001b[0m \u001b[1m82s\u001b[0m 2s/step - accuracy: 0.8209 - loss: 0.4845 - val_accuracy: 0.5938 - val_loss: 1.4259\n",
            "Epoch 132/150\n",
            "\u001b[1m25/25\u001b[0m \u001b[32m━━━━━━━━━━━━━━━━━━━━\u001b[0m\u001b[37m\u001b[0m \u001b[1m82s\u001b[0m 2s/step - accuracy: 0.8060 - loss: 0.5475 - val_accuracy: 0.6562 - val_loss: 1.3805\n",
            "Epoch 133/150\n",
            "\u001b[1m25/25\u001b[0m \u001b[32m━━━━━━━━━━━━━━━━━━━━\u001b[0m\u001b[37m\u001b[0m \u001b[1m81s\u001b[0m 2s/step - accuracy: 0.8109 - loss: 0.5159 - val_accuracy: 0.6250 - val_loss: 1.6814\n",
            "Epoch 134/150\n",
            "\u001b[1m25/25\u001b[0m \u001b[32m━━━━━━━━━━━━━━━━━━━━\u001b[0m\u001b[37m\u001b[0m \u001b[1m31s\u001b[0m 1s/step - accuracy: 0.7788 - loss: 0.5960 - val_accuracy: 0.6562 - val_loss: 1.5351\n",
            "Epoch 135/150\n",
            "\u001b[1m25/25\u001b[0m \u001b[32m━━━━━━━━━━━━━━━━━━━━\u001b[0m\u001b[37m\u001b[0m \u001b[1m32s\u001b[0m 1s/step - accuracy: 0.8156 - loss: 0.5887 - val_accuracy: 0.6510 - val_loss: 1.3033\n",
            "Epoch 136/150\n",
            "\u001b[1m25/25\u001b[0m \u001b[32m━━━━━━━━━━━━━━━━━━━━\u001b[0m\u001b[37m\u001b[0m \u001b[1m40s\u001b[0m 1s/step - accuracy: 0.8343 - loss: 0.4403 - val_accuracy: 0.6354 - val_loss: 1.7643\n",
            "Epoch 137/150\n",
            "\u001b[1m25/25\u001b[0m \u001b[32m━━━━━━━━━━━━━━━━━━━━\u001b[0m\u001b[37m\u001b[0m \u001b[1m40s\u001b[0m 2s/step - accuracy: 0.8029 - loss: 0.6021 - val_accuracy: 0.5625 - val_loss: 2.2851\n",
            "Epoch 138/150\n",
            "\u001b[1m25/25\u001b[0m \u001b[32m━━━━━━━━━━━━━━━━━━━━\u001b[0m\u001b[37m\u001b[0m \u001b[1m41s\u001b[0m 2s/step - accuracy: 0.7743 - loss: 0.5760 - val_accuracy: 0.6354 - val_loss: 1.3055\n",
            "Epoch 139/150\n",
            "\u001b[1m25/25\u001b[0m \u001b[32m━━━━━━━━━━━━━━━━━━━━\u001b[0m\u001b[37m\u001b[0m \u001b[1m41s\u001b[0m 2s/step - accuracy: 0.8294 - loss: 0.5469 - val_accuracy: 0.6406 - val_loss: 1.3839\n",
            "Epoch 140/150\n",
            "\u001b[1m25/25\u001b[0m \u001b[32m━━━━━━━━━━━━━━━━━━━━\u001b[0m\u001b[37m\u001b[0m \u001b[1m81s\u001b[0m 2s/step - accuracy: 0.8294 - loss: 0.4625 - val_accuracy: 0.6302 - val_loss: 1.4494\n",
            "Epoch 141/150\n",
            "\u001b[1m25/25\u001b[0m \u001b[32m━━━━━━━━━━━━━━━━━━━━\u001b[0m\u001b[37m\u001b[0m \u001b[1m41s\u001b[0m 2s/step - accuracy: 0.8200 - loss: 0.5029 - val_accuracy: 0.6406 - val_loss: 1.4159\n",
            "Epoch 142/150\n",
            "\u001b[1m25/25\u001b[0m \u001b[32m━━━━━━━━━━━━━━━━━━━━\u001b[0m\u001b[37m\u001b[0m \u001b[1m41s\u001b[0m 2s/step - accuracy: 0.8499 - loss: 0.4375 - val_accuracy: 0.6198 - val_loss: 1.5079\n",
            "Epoch 143/150\n",
            "\u001b[1m25/25\u001b[0m \u001b[32m━━━━━━━━━━━━━━━━━━━━\u001b[0m\u001b[37m\u001b[0m \u001b[1m32s\u001b[0m 1s/step - accuracy: 0.7986 - loss: 0.5664 - val_accuracy: 0.6406 - val_loss: 1.4130\n",
            "Epoch 144/150\n",
            "\u001b[1m25/25\u001b[0m \u001b[32m━━━━━━━━━━━━━━━━━━━━\u001b[0m\u001b[37m\u001b[0m \u001b[1m31s\u001b[0m 1s/step - accuracy: 0.8318 - loss: 0.4424 - val_accuracy: 0.6042 - val_loss: 1.5718\n",
            "Epoch 145/150\n",
            "\u001b[1m25/25\u001b[0m \u001b[32m━━━━━━━━━━━━━━━━━━━━\u001b[0m\u001b[37m\u001b[0m \u001b[1m41s\u001b[0m 1s/step - accuracy: 0.8370 - loss: 0.4983 - val_accuracy: 0.6250 - val_loss: 1.3471\n",
            "Epoch 146/150\n",
            "\u001b[1m25/25\u001b[0m \u001b[32m━━━━━━━━━━━━━━━━━━━━\u001b[0m\u001b[37m\u001b[0m \u001b[1m30s\u001b[0m 1s/step - accuracy: 0.8275 - loss: 0.5130 - val_accuracy: 0.6667 - val_loss: 1.4037\n",
            "Epoch 147/150\n",
            "\u001b[1m25/25\u001b[0m \u001b[32m━━━━━━━━━━━━━━━━━━━━\u001b[0m\u001b[37m\u001b[0m \u001b[1m41s\u001b[0m 1s/step - accuracy: 0.8367 - loss: 0.4757 - val_accuracy: 0.6302 - val_loss: 1.5356\n",
            "Epoch 148/150\n",
            "\u001b[1m25/25\u001b[0m \u001b[32m━━━━━━━━━━━━━━━━━━━━\u001b[0m\u001b[37m\u001b[0m \u001b[1m41s\u001b[0m 1s/step - accuracy: 0.8140 - loss: 0.5727 - val_accuracy: 0.6823 - val_loss: 1.3069\n",
            "Epoch 149/150\n",
            "\u001b[1m25/25\u001b[0m \u001b[32m━━━━━━━━━━━━━━━━━━━━\u001b[0m\u001b[37m\u001b[0m \u001b[1m30s\u001b[0m 1s/step - accuracy: 0.8588 - loss: 0.4202 - val_accuracy: 0.6406 - val_loss: 1.5340\n",
            "Epoch 150/150\n",
            "\u001b[1m25/25\u001b[0m \u001b[32m━━━━━━━━━━━━━━━━━━━━\u001b[0m\u001b[37m\u001b[0m \u001b[1m41s\u001b[0m 2s/step - accuracy: 0.8174 - loss: 0.4803 - val_accuracy: 0.5260 - val_loss: 2.6838\n"
          ]
        }
      ]
    },
    {
      "cell_type": "code",
      "source": [
        "import numpy as np\n",
        "from sklearn.metrics import classification_report, confusion_matrix\n",
        "import matplotlib.pyplot as plt\n",
        "import seaborn as sns"
      ],
      "metadata": {
        "id": "bHgxM6QYhqrQ"
      },
      "execution_count": 40,
      "outputs": []
    },
    {
      "cell_type": "code",
      "source": [
        "print(\"Generating predictions...\")\n",
        "validation_generator.reset()  # Reset generator to start from beginning\n",
        "predictions = model.predict(validation_generator, steps=STEP_SIZE_VALID)\n",
        "predicted_classes = np.argmax(predictions, axis=1)"
      ],
      "metadata": {
        "colab": {
          "base_uri": "https://localhost:8080/"
        },
        "id": "QgszI-7bhrAi",
        "outputId": "1f3f4539-97f0-4a1c-b592-b50fe7516a99"
      },
      "execution_count": 41,
      "outputs": [
        {
          "output_type": "stream",
          "name": "stdout",
          "text": [
            "Generating predictions...\n",
            "\u001b[1m6/6\u001b[0m \u001b[32m━━━━━━━━━━━━━━━━━━━━\u001b[0m\u001b[37m\u001b[0m \u001b[1m2s\u001b[0m 262ms/step\n"
          ]
        }
      ]
    },
    {
      "cell_type": "code",
      "source": [
        "# 2. Get true labels\n",
        "true_classes = validation_generator.classes[:len(predicted_classes)]\n",
        "class_labels = list(validation_generator.class_indices.keys())"
      ],
      "metadata": {
        "id": "bujdg8fZhrQ2"
      },
      "execution_count": 46,
      "outputs": []
    },
    {
      "cell_type": "code",
      "source": [
        "print(f\"Number of predictions: {len(predicted_classes)}\")\n",
        "print(f\"Number of true labels: {len(true_classes)}\")"
      ],
      "metadata": {
        "colab": {
          "base_uri": "https://localhost:8080/"
        },
        "id": "2b8V5mGrKTgh",
        "outputId": "021ccccc-77de-4f40-bb84-a4cfe0b05aac"
      },
      "execution_count": 47,
      "outputs": [
        {
          "output_type": "stream",
          "name": "stdout",
          "text": [
            "Number of predictions: 192\n",
            "Number of true labels: 192\n"
          ]
        }
      ]
    },
    {
      "cell_type": "code",
      "source": [
        "test_accuracy = accuracy_score(true_classes, predicted_classes)\n",
        "print(f\"Test Accuracy: {test_accuracy:.4f} ({test_accuracy*100:.2f}%)\")"
      ],
      "metadata": {
        "colab": {
          "base_uri": "https://localhost:8080/"
        },
        "id": "mjdqUMUJJvMz",
        "outputId": "e0961019-51fb-439c-8c72-52e7a5e2cbd9"
      },
      "execution_count": 48,
      "outputs": [
        {
          "output_type": "stream",
          "name": "stdout",
          "text": [
            "Test Accuracy: 0.5260 (52.60%)\n"
          ]
        }
      ]
    },
    {
      "cell_type": "code",
      "source": [
        "# 4. Detailed classification report\n",
        "print(\"\\nClassification Report:\")\n",
        "print(classification_report(true_classes, predicted_classes, target_names=class_labels))"
      ],
      "metadata": {
        "colab": {
          "base_uri": "https://localhost:8080/"
        },
        "id": "QRQ4lpxGJvoQ",
        "outputId": "66cbcc37-93a4-45ab-f38d-47bb6ac8691b"
      },
      "execution_count": 49,
      "outputs": [
        {
          "output_type": "stream",
          "name": "stdout",
          "text": [
            "\n",
            "Classification Report:\n",
            "              precision    recall  f1-score   support\n",
            "\n",
            "       blues       0.44      0.40      0.42        20\n",
            "   classical       0.91      1.00      0.95        20\n",
            "     country       0.37      0.90      0.52        20\n",
            "       disco       0.42      0.70      0.53        20\n",
            "      hiphop       1.00      0.10      0.18        20\n",
            "        jazz       0.75      0.60      0.67        20\n",
            "       metal       1.00      0.20      0.33        20\n",
            "         pop       0.85      0.55      0.67        20\n",
            "      reggae       0.62      0.50      0.56        20\n",
            "        rock       0.11      0.17      0.13        12\n",
            "\n",
            "    accuracy                           0.53       192\n",
            "   macro avg       0.65      0.51      0.50       192\n",
            "weighted avg       0.67      0.53      0.51       192\n",
            "\n"
          ]
        }
      ]
    },
    {
      "cell_type": "code",
      "source": [
        "cm = confusion_matrix(true_classes, predicted_classes)\n",
        "plt.figure(figsize=(10, 8))\n",
        "sns.heatmap(cm, annot=True, fmt='d', cmap='Blues',\n",
        "            xticklabels=class_labels, yticklabels=class_labels)\n",
        "plt.title('Confusion Matrix')\n",
        "plt.ylabel('True Label')\n",
        "plt.xlabel('Predicted Label')\n",
        "plt.xticks(rotation=45)\n",
        "plt.yticks(rotation=0)\n",
        "plt.tight_layout()\n",
        "plt.show()"
      ],
      "metadata": {
        "colab": {
          "base_uri": "https://localhost:8080/",
          "height": 761
        },
        "id": "CADece-AJwIH",
        "outputId": "b553e7bb-576a-4778-d891-61dc0865a36f"
      },
      "execution_count": 51,
      "outputs": [
        {
          "output_type": "display_data",
          "data": {
            "text/plain": [
              "<Figure size 1000x800 with 0 Axes>"
            ]
          },
          "metadata": {}
        },
        {
          "output_type": "display_data",
          "data": {
            "text/plain": [
              "<Figure size 1000x800 with 2 Axes>"
            ],
            "image/png": "[encoded data removed]"
          },
          "metadata": {}
        }
      ]
    },
    {
      "cell_type": "code",
      "source": [
        "print(\"\\nPer-class Accuracy:\")\n",
        "for i, genre in enumerate(class_labels):\n",
        "    class_accuracy = cm[i, i] / cm[i, :].sum()\n",
        "    print(f\"{genre}: {class_accuracy:.4f} ({class_accuracy*100:.2f}%)\")"
      ],
      "metadata": {
        "colab": {
          "base_uri": "https://localhost:8080/"
        },
        "id": "0X7JVwrHJ_zT",
        "outputId": "86df7240-ee50-45e8-b68c-673a4c7123e2"
      },
      "execution_count": 52,
      "outputs": [
        {
          "output_type": "stream",
          "name": "stdout",
          "text": [
            "\n",
            "Per-class Accuracy:\n",
            "blues: 0.4000 (40.00%)\n",
            "classical: 1.0000 (100.00%)\n",
            "country: 0.9000 (90.00%)\n",
            "disco: 0.7000 (70.00%)\n",
            "hiphop: 0.1000 (10.00%)\n",
            "jazz: 0.6000 (60.00%)\n",
            "metal: 0.2000 (20.00%)\n",
            "pop: 0.5500 (55.00%)\n",
            "reggae: 0.5000 (50.00%)\n",
            "rock: 0.1667 (16.67%)\n"
          ]
        }
      ]
    },
    {
      "cell_type": "code",
      "source": [],
      "metadata": {
        "id": "kfuKlkz3KALx"
      },
      "execution_count": null,
      "outputs": []
    },
    {
      "cell_type": "code",
      "source": [],
      "metadata": {
        "id": "FS7VK72TKnbo"
      },
      "execution_count": null,
      "outputs": []
    },
    {
      "cell_type": "code",
      "source": [],
      "metadata": {
        "id": "jDqWZ-ORKoDb"
      },
      "execution_count": null,
      "outputs": []
    }
  ],
  "metadata": {
    "accelerator": "GPU",
    "colab": {
      "provenance": [],
      "include_colab_link": true
    },
    "kernelspec": {
      "display_name": "Python 3",
      "language": "python",
      "name": "python3"
    },
    "language_info": {
      "codemirror_mode": {
        "name": "ipython",
        "version": 3
      },
      "file_extension": ".py",
      "mimetype": "text/x-python",
      "name": "python",
      "nbconvert_exporter": "python",
      "pygments_lexer": "ipython3",
      "version": "3.7.3"
    }
  },
  "nbformat": 4,
  "nbformat_minor": 0
}